{
 "cells": [
  {
   "cell_type": "code",
   "execution_count": 1,
   "outputs": [],
   "source": [
    "import sys\n",
    "sys.path.append('..')"
   ],
   "metadata": {
    "collapsed": false,
    "ExecuteTime": {
     "end_time": "2023-09-25T18:15:31.045572803Z",
     "start_time": "2023-09-25T18:15:31.045311419Z"
    }
   }
  },
  {
   "cell_type": "code",
   "execution_count": 2,
   "outputs": [],
   "source": [
    "from omegaconf import DictConfig, OmegaConf\n",
    "import pandas as pd\n",
    "import os\n",
    "import numpy as np\n",
    "import random\n",
    "from transformers import AutoTokenizer, AutoModel\n",
    "import torch\n",
    "import yaml\n",
    "import multiprocessing\n",
    "import torch.nn as nn"
   ],
   "metadata": {
    "collapsed": false,
    "ExecuteTime": {
     "end_time": "2023-09-25T18:15:32.878903114Z",
     "start_time": "2023-09-25T18:15:31.376245993Z"
    }
   }
  },
  {
   "cell_type": "code",
   "execution_count": 3,
   "outputs": [],
   "source": [
    "from cles.predict import get_model\n",
    "from cles.predict import get_dataloader\n",
    "from cles.predict import predict"
   ],
   "metadata": {
    "collapsed": false,
    "ExecuteTime": {
     "end_time": "2023-09-25T18:15:32.885876830Z",
     "start_time": "2023-09-25T18:15:32.880162126Z"
    }
   }
  },
  {
   "cell_type": "code",
   "execution_count": 4,
   "outputs": [],
   "source": [
    "def seed_everything(seed=42):\n",
    "    random.seed(seed)\n",
    "    os.environ['PYTHONHASHSEED'] = str(seed)\n",
    "    np.random.seed(seed)\n",
    "    torch.manual_seed(seed)\n",
    "    torch.cuda.manual_seed(seed)\n",
    "    torch.backends.cudnn.deterministic = True"
   ],
   "metadata": {
    "collapsed": false,
    "ExecuteTime": {
     "end_time": "2023-09-25T18:15:32.917996784Z",
     "start_time": "2023-09-25T18:15:32.886660610Z"
    }
   }
  },
  {
   "cell_type": "code",
   "execution_count": 5,
   "outputs": [],
   "source": [
    "seed_everything(42)"
   ],
   "metadata": {
    "collapsed": false,
    "ExecuteTime": {
     "end_time": "2023-09-25T18:15:32.930254344Z",
     "start_time": "2023-09-25T18:15:32.918610462Z"
    }
   }
  },
  {
   "cell_type": "code",
   "execution_count": 6,
   "outputs": [],
   "source": [
    "base_path = '..'\n",
    "base_data_path = '../data_raw'\n",
    "config_backbone_path = f'{base_path}/models_config/db_l_conc_pool/microsoft/deberta-v3-large/config.json'\n",
    "tokenizer_path = f'{base_path}/models_config/db_l_conc_pool/microsoft/deberta-v3-large'\n",
    "train_config = f'{base_path}/config/db_large_conc_pool.yaml'\n",
    "model_weights_directory = f'{base_path}/model_weights/db_l_conc_pool'\n",
    "summaries_path = f'{base_data_path}/summaries_train.csv'\n",
    "prompts_path = f'{base_data_path}/prompts_train.csv'"
   ],
   "metadata": {
    "collapsed": false,
    "ExecuteTime": {
     "end_time": "2023-09-25T18:15:33.054639305Z",
     "start_time": "2023-09-25T18:15:33.050679420Z"
    }
   }
  },
  {
   "cell_type": "code",
   "execution_count": 7,
   "outputs": [],
   "source": [
    "with open(train_config, \"r\") as stream:\n",
    "    try:\n",
    "        train_config = yaml.safe_load(stream)\n",
    "    except yaml.YAMLError as exc:\n",
    "        print(exc)"
   ],
   "metadata": {
    "collapsed": false,
    "ExecuteTime": {
     "end_time": "2023-09-25T18:15:33.504330568Z",
     "start_time": "2023-09-25T18:15:33.492370193Z"
    }
   }
  },
  {
   "cell_type": "code",
   "execution_count": 8,
   "outputs": [],
   "source": [
    "train_config = DictConfig(train_config)\n",
    "train_config['backbone']['config_path'] = config_backbone_path"
   ],
   "metadata": {
    "collapsed": false,
    "ExecuteTime": {
     "end_time": "2023-09-25T18:15:33.924968799Z",
     "start_time": "2023-09-25T18:15:33.919802651Z"
    }
   }
  },
  {
   "cell_type": "code",
   "execution_count": 9,
   "outputs": [],
   "source": [
    "num_workers = multiprocessing.cpu_count()\n",
    "tokenizer = AutoTokenizer.from_pretrained(tokenizer_path)\n",
    "device = torch.device('cuda') if torch.cuda.is_available() else torch.device('cpu')"
   ],
   "metadata": {
    "collapsed": false,
    "ExecuteTime": {
     "end_time": "2023-09-25T18:15:34.494866040Z",
     "start_time": "2023-09-25T18:15:34.315990885Z"
    }
   }
  },
  {
   "cell_type": "code",
   "execution_count": 10,
   "outputs": [],
   "source": [
    "summaries = pd.read_csv(summaries_path)\n",
    "prompts = pd.read_csv(prompts_path)"
   ],
   "metadata": {
    "collapsed": false,
    "ExecuteTime": {
     "end_time": "2023-09-25T18:15:34.764714642Z",
     "start_time": "2023-09-25T18:15:34.732614810Z"
    }
   }
  },
  {
   "cell_type": "code",
   "execution_count": 11,
   "outputs": [],
   "source": [
    "df = prompts.merge(summaries, on='prompt_id', how='left')"
   ],
   "metadata": {
    "collapsed": false,
    "ExecuteTime": {
     "end_time": "2023-09-25T18:15:35.192456315Z",
     "start_time": "2023-09-25T18:15:35.187856329Z"
    }
   }
  },
  {
   "cell_type": "code",
   "execution_count": 12,
   "outputs": [
    {
     "data": {
      "text/plain": "['microsoft_deberta_v3_large_3b9047.pth',\n 'microsoft_deberta_v3_large_39c16e.pth',\n 'microsoft_deberta_v3_large_814d6b.pth',\n 'microsoft_deberta_v3_large_ebad26.pth']"
     },
     "execution_count": 12,
     "metadata": {},
     "output_type": "execute_result"
    }
   ],
   "source": [
    "os.listdir(model_weights_directory)"
   ],
   "metadata": {
    "collapsed": false,
    "ExecuteTime": {
     "end_time": "2023-09-25T18:15:35.641656516Z",
     "start_time": "2023-09-25T18:15:35.634315732Z"
    }
   }
  },
  {
   "cell_type": "code",
   "execution_count": 13,
   "outputs": [
    {
     "name": "stderr",
     "output_type": "stream",
     "text": [
      "100%|██████████| 1792/1792 [01:46<00:00, 16.75it/s]\n",
      "100%|██████████| 1792/1792 [01:48<00:00, 16.58it/s]\n",
      "100%|██████████| 1792/1792 [01:48<00:00, 16.55it/s]\n",
      "100%|██████████| 1792/1792 [01:48<00:00, 16.58it/s]\n"
     ]
    }
   ],
   "source": [
    "preds = []\n",
    "for model_w_file in os.listdir(model_weights_directory):\n",
    "    dataloader = get_dataloader(dataframe=df, num_workers=num_workers, tokenizer=tokenizer, cfg=train_config)\n",
    "    model = get_model(train_config)\n",
    "    model.load_state_dict(torch.load(f'{model_weights_directory}/{model_w_file}'))\n",
    "    model.to(device);\n",
    "    model.eval();\n",
    "    predictions = predict(model, dataloader, device)\n",
    "    del model;\n",
    "    torch.cuda.empty_cache()\n",
    "    preds.append(predictions)"
   ],
   "metadata": {
    "collapsed": false,
    "ExecuteTime": {
     "end_time": "2023-09-25T18:23:17.414108532Z",
     "start_time": "2023-09-25T18:15:36.125636015Z"
    }
   }
  },
  {
   "cell_type": "code",
   "execution_count": 14,
   "outputs": [],
   "source": [
    "predictions_agg = np.mean(preds, axis=0)"
   ],
   "metadata": {
    "collapsed": false,
    "ExecuteTime": {
     "end_time": "2023-09-25T18:23:17.453611046Z",
     "start_time": "2023-09-25T18:23:17.453306616Z"
    }
   }
  },
  {
   "cell_type": "code",
   "execution_count": 15,
   "outputs": [],
   "source": [
    "df.loc[:, ['content', 'wording']] = predictions_agg"
   ],
   "metadata": {
    "collapsed": false,
    "ExecuteTime": {
     "end_time": "2023-09-25T18:23:17.453777193Z",
     "start_time": "2023-09-25T18:23:17.453466161Z"
    }
   }
  },
  {
   "cell_type": "code",
   "execution_count": 16,
   "outputs": [
    {
     "data": {
      "text/plain": "     student_id   content   wording\n0  00791789cc1f  0.054285 -0.259413\n1  0086ef22de8f -0.946032 -1.054013\n2  0094589c7a22 -0.024926 -0.538148\n3  00cd5736026a  0.221033  0.005303\n4  00d98b8ff756 -0.465475 -0.529504",
      "text/html": "<div>\n<style scoped>\n    .dataframe tbody tr th:only-of-type {\n        vertical-align: middle;\n    }\n\n    .dataframe tbody tr th {\n        vertical-align: top;\n    }\n\n    .dataframe thead th {\n        text-align: right;\n    }\n</style>\n<table border=\"1\" class=\"dataframe\">\n  <thead>\n    <tr style=\"text-align: right;\">\n      <th></th>\n      <th>student_id</th>\n      <th>content</th>\n      <th>wording</th>\n    </tr>\n  </thead>\n  <tbody>\n    <tr>\n      <th>0</th>\n      <td>00791789cc1f</td>\n      <td>0.054285</td>\n      <td>-0.259413</td>\n    </tr>\n    <tr>\n      <th>1</th>\n      <td>0086ef22de8f</td>\n      <td>-0.946032</td>\n      <td>-1.054013</td>\n    </tr>\n    <tr>\n      <th>2</th>\n      <td>0094589c7a22</td>\n      <td>-0.024926</td>\n      <td>-0.538148</td>\n    </tr>\n    <tr>\n      <th>3</th>\n      <td>00cd5736026a</td>\n      <td>0.221033</td>\n      <td>0.005303</td>\n    </tr>\n    <tr>\n      <th>4</th>\n      <td>00d98b8ff756</td>\n      <td>-0.465475</td>\n      <td>-0.529504</td>\n    </tr>\n  </tbody>\n</table>\n</div>"
     },
     "execution_count": 16,
     "metadata": {},
     "output_type": "execute_result"
    }
   ],
   "source": [
    "df[['student_id', 'content', 'wording']].head(5)"
   ],
   "metadata": {
    "collapsed": false,
    "ExecuteTime": {
     "end_time": "2023-09-25T18:23:17.454385637Z",
     "start_time": "2023-09-25T18:23:17.453535804Z"
    }
   }
  },
  {
   "cell_type": "code",
   "execution_count": 17,
   "outputs": [],
   "source": [
    "df[['student_id', 'content', 'wording']].to_csv('submission.csv', index=False)"
   ],
   "metadata": {
    "collapsed": false,
    "ExecuteTime": {
     "end_time": "2023-09-25T18:23:17.533711463Z",
     "start_time": "2023-09-25T18:23:17.453590870Z"
    }
   }
  },
  {
   "cell_type": "code",
   "execution_count": null,
   "outputs": [],
   "source": [],
   "metadata": {
    "collapsed": false
   }
  }
 ],
 "metadata": {
  "kernelspec": {
   "display_name": "Python 3",
   "language": "python",
   "name": "python3"
  },
  "language_info": {
   "codemirror_mode": {
    "name": "ipython",
    "version": 2
   },
   "file_extension": ".py",
   "mimetype": "text/x-python",
   "name": "python",
   "nbconvert_exporter": "python",
   "pygments_lexer": "ipython2",
   "version": "2.7.6"
  }
 },
 "nbformat": 4,
 "nbformat_minor": 0
}
