{
 "cells": [
  {
   "cell_type": "code",
   "execution_count": 2,
   "id": "a53084cd-c5b0-4987-a525-31d918f44a10",
   "metadata": {},
   "outputs": [],
   "source": [
    "import sys"
   ]
  },
  {
   "cell_type": "code",
   "execution_count": 3,
   "id": "2a383f1d-07ef-45ad-84dd-4dd88c644078",
   "metadata": {},
   "outputs": [],
   "source": [
    "sys.path.append('..')"
   ]
  },
  {
   "cell_type": "code",
   "execution_count": 28,
   "id": "initial_id",
   "metadata": {
    "ExecuteTime": {
     "end_time": "2023-09-28T16:23:34.767644582Z",
     "start_time": "2023-09-28T16:23:31.992658776Z"
    }
   },
   "outputs": [],
   "source": [
    "import pandas as pd\n",
    "import numpy as np\n",
    "import nltk\n",
    "from nltk.corpus import stopwords\n",
    "from collections import Counter\n",
    "import spacy\n",
    "import re\n",
    "from typing import List\n",
    "from sklearn.feature_extraction.text import TfidfVectorizer\n",
    "from sklearn.metrics.pairwise import cosine_similarity\n",
    "from spellchecker import SpellChecker\n",
    "import nltk\n",
    "from nltk import pos_tag\n",
    "from nltk.corpus import stopwords\n",
    "from nltk.tokenize import word_tokenize\n",
    "from nltk.tokenize.treebank import TreebankWordDetokenizer\n",
    "from collections import Counter\n",
    "import spacy\n",
    "import re\n",
    "import lightgbm as lgb\n",
    "from transformers import AutoTokenizer\n",
    "from sklearn.metrics import mean_squared_error\n",
    "import copy"
   ]
  },
  {
   "cell_type": "code",
   "execution_count": 36,
   "id": "997a9494-d6c9-47fa-a099-50196e39ec8c",
   "metadata": {},
   "outputs": [],
   "source": [
    "import warnings"
   ]
  },
  {
   "cell_type": "code",
   "execution_count": 37,
   "id": "d29b779b-9938-4262-943f-36f0de15054d",
   "metadata": {},
   "outputs": [],
   "source": [
    "warnings.filterwarnings('ignore')"
   ]
  },
  {
   "cell_type": "code",
   "execution_count": 22,
   "id": "58676401-baef-44d4-ad79-6a197993b38a",
   "metadata": {},
   "outputs": [],
   "source": [
    "import random"
   ]
  },
  {
   "cell_type": "code",
   "execution_count": 23,
   "id": "6778e3c9-bdba-4e4d-bfed-466d7e52aa9e",
   "metadata": {},
   "outputs": [],
   "source": [
    "import optuna\n",
    "random.seed(42)\n",
    "np.random.seed(42)\n",
    "optuna.logging.set_verbosity(optuna.logging.WARNING)"
   ]
  },
  {
   "cell_type": "code",
   "execution_count": 5,
   "id": "d51932d9-824f-4acf-97a8-7080e4fb2bcc",
   "metadata": {},
   "outputs": [],
   "source": [
    "from cles.lgb_utils import Preprocessor"
   ]
  },
  {
   "cell_type": "code",
   "execution_count": 13,
   "id": "f9aa7d3a1f390bc8",
   "metadata": {
    "ExecuteTime": {
     "end_time": "2023-09-27T09:33:06.496047474Z",
     "start_time": "2023-09-27T09:33:06.476214143Z"
    },
    "collapsed": false,
    "jupyter": {
     "outputs_hidden": false
    }
   },
   "outputs": [],
   "source": [
    "oof_attn_pool = pd.read_csv('../oof_predictions/microsoft_deberta_v3_large_attn_pool.csv')\n",
    "oof_conc_pool = pd.read_csv('../oof_predictions/microsoft_deberta_v3_large_conc_pool.csv')\n",
    "oof_gem_pool = pd.read_csv('../oof_predictions/microsoft_deberta_v3_large_gem_pool.csv')\n",
    "oof_lstm_pool = pd.read_csv('../oof_predictions/microsoft_deberta_v3_large_lstm_pool.csv')\n",
    "oof_mean_pool = pd.read_csv('../oof_predictions/microsoft_deberta_v3_large_mean_pool.csv')\n",
    "oof_gru_pool = pd.read_csv('../oof_predictions/microsoft_deberta_v3_large_gru_pool.csv')\n",
    "oof_meanmax_pool = pd.read_csv('../oof_predictions/microsoft_deberta_v3_large_meanmax_pool.csv')"
   ]
  },
  {
   "cell_type": "code",
   "execution_count": 14,
   "id": "2e37dc15-f14d-4ef2-941a-8788569192ef",
   "metadata": {},
   "outputs": [],
   "source": [
    "# 'content_mean_pool', 'wording_mean_pool',\n",
    "#        'content_lstm_pool', 'wording_lstm_pool', 'content_attn_pool',\n",
    "#        'wording_attn_pool', 'content_gem_pool', 'wording_gem_pool',\n",
    "#        'content_conc_pool', 'wording_conc_pool'"
   ]
  },
  {
   "cell_type": "code",
   "execution_count": 15,
   "id": "b0a8304854e0d637",
   "metadata": {
    "ExecuteTime": {
     "end_time": "2023-09-27T09:33:07.209229949Z",
     "start_time": "2023-09-27T09:33:07.190296064Z"
    },
    "collapsed": false,
    "jupyter": {
     "outputs_hidden": false
    }
   },
   "outputs": [],
   "source": [
    "oof_attn_pool = oof_attn_pool.rename({\n",
    "    'pred_content': 'content_attn_pool', \n",
    "    'pred_wording': 'wording_attn_pool'}, axis=1).drop(['content', 'wording'], axis=1)\n",
    "oof_conc_pool = oof_conc_pool.rename({\n",
    "    'pred_content': 'content_conc_pool',\n",
    "    'pred_wording': 'wording_conc_pool'\n",
    "}, axis=1).drop(['content', 'wording'], axis=1)\n",
    "\n",
    "oof_gem_pool = oof_gem_pool.rename({\n",
    "    'pred_content': 'content_gem_pool',\n",
    "    'pred_wording': 'wording_gem_pool'\n",
    "}, axis=1).drop(['content', 'wording'], axis=1)\n",
    "\n",
    "oof_lstm_pool = oof_lstm_pool.rename({\n",
    "    'pred_content': 'content_lstm_pool',\n",
    "    'pred_wording': 'wording_lstm_pool'\n",
    "}, axis=1).drop(['content', 'wording'], axis=1)\n",
    "\n",
    "oof_mean_pool = oof_mean_pool.rename({\n",
    "    'pred_content': 'content_mean_pool',\n",
    "    'pred_wording': 'wording_mean_pool'\n",
    "}, axis=1).drop(['content', 'wording'], axis=1)\n",
    "\n",
    "oof_gru_pool = oof_gru_pool.rename({\n",
    "    'pred_content': 'content_gru_pool',\n",
    "    'pred_wording': 'wording_gru_pool'\n",
    "}, axis=1).drop(['content', 'wording'], axis=1)\n",
    "\n",
    "oof_meanmax_pool = oof_meanmax_pool.rename({\n",
    "    'pred_content': 'content_meanmax_pool',\n",
    "    'pred_wording': 'wording_meanmax_pool'\n",
    "}, axis=1).drop(['content', 'wording'], axis=1)"
   ]
  },
  {
   "cell_type": "code",
   "execution_count": 16,
   "id": "9b5a69ad-cb12-4b02-9aa5-f417c45a7dc3",
   "metadata": {},
   "outputs": [],
   "source": [
    "oof_df =oof_attn_pool.merge(\n",
    "    oof_conc_pool, on=['student_id', 'prompt_id']\n",
    ").merge(oof_gem_pool, on=['student_id', 'prompt_id']).merge(\n",
    "    oof_lstm_pool, on=['student_id', 'prompt_id']\n",
    ").merge(oof_mean_pool, on=['student_id', 'prompt_id']).merge(\n",
    "    oof_gru_pool, on=['student_id', 'prompt_id']).merge(\n",
    "    oof_meanmax_pool, on=['student_id', 'prompt_id'])"
   ]
  },
  {
   "cell_type": "code",
   "execution_count": 17,
   "id": "eb67fcca-40f7-4b0e-9728-43468f70ad7a",
   "metadata": {},
   "outputs": [
    {
     "data": {
      "text/plain": [
       "Index(['prompt_id', 'student_id', 'content_attn_pool', 'wording_attn_pool',\n",
       "       'content_conc_pool', 'wording_conc_pool', 'content_gem_pool',\n",
       "       'wording_gem_pool', 'content_lstm_pool', 'wording_lstm_pool',\n",
       "       'content_mean_pool', 'wording_mean_pool', 'content_gru_pool',\n",
       "       'wording_gru_pool', 'content_meanmax_pool', 'wording_meanmax_pool'],\n",
       "      dtype='object')"
      ]
     },
     "execution_count": 17,
     "metadata": {},
     "output_type": "execute_result"
    }
   ],
   "source": [
    "oof_df.columns"
   ]
  },
  {
   "cell_type": "code",
   "execution_count": 18,
   "id": "978f517c9fea4e5",
   "metadata": {
    "ExecuteTime": {
     "end_time": "2023-09-27T09:33:09.740004696Z",
     "start_time": "2023-09-27T09:33:09.691067006Z"
    },
    "collapsed": false,
    "jupyter": {
     "outputs_hidden": false
    }
   },
   "outputs": [],
   "source": [
    "preprocessor = Preprocessor()"
   ]
  },
  {
   "cell_type": "code",
   "execution_count": 19,
   "id": "3830fa2c5fe0a91",
   "metadata": {
    "ExecuteTime": {
     "end_time": "2023-09-27T09:33:10.939794400Z",
     "start_time": "2023-09-27T09:33:10.888179282Z"
    },
    "collapsed": false,
    "jupyter": {
     "outputs_hidden": false
    }
   },
   "outputs": [],
   "source": [
    "prompts = pd.read_csv('../data_raw/prompts_train.csv')\n",
    "summaries = pd.read_csv('../data_raw/summaries_train.csv')"
   ]
  },
  {
   "cell_type": "code",
   "execution_count": 20,
   "id": "72df376d3d5134d0",
   "metadata": {
    "ExecuteTime": {
     "end_time": "2023-09-27T09:33:19.511043144Z",
     "start_time": "2023-09-27T09:33:11.777229461Z"
    },
    "collapsed": false,
    "jupyter": {
     "outputs_hidden": false
    }
   },
   "outputs": [],
   "source": [
    "df = preprocessor.run(prompts, summaries)"
   ]
  },
  {
   "cell_type": "code",
   "execution_count": 24,
   "id": "8646bc8f1582d7db",
   "metadata": {
    "ExecuteTime": {
     "end_time": "2023-09-27T09:33:22.533050728Z",
     "start_time": "2023-09-27T09:33:22.510882631Z"
    },
    "collapsed": false,
    "jupyter": {
     "outputs_hidden": false
    }
   },
   "outputs": [
    {
     "data": {
      "text/plain": [
       "Index(['student_id', 'prompt_id', 'text', 'content', 'wording',\n",
       "       'summary_length', 'splling_err_num', 'prompt_question', 'prompt_title',\n",
       "       'prompt_text', 'prompt_length', 'length_ratio', 'word_overlap_count',\n",
       "       'word_overlap_ratio', 'bigram_overlap_count', 'bigram_overlap_ratio',\n",
       "       'trigram_overlap_count', 'trigram_overlap_ratio', 'quotes_count',\n",
       "       'number_of_unique_words', 'flesch_kinsaid', 'flesch', 'gunning_fog',\n",
       "       'coleman_liau', 'dale_chall', 'ari', 'linsear_write', 'smog', 'spache'],\n",
       "      dtype='object')"
      ]
     },
     "execution_count": 24,
     "metadata": {},
     "output_type": "execute_result"
    }
   ],
   "source": [
    "df.columns"
   ]
  },
  {
   "cell_type": "code",
   "execution_count": null,
   "id": "cb327795-709f-4d12-8af1-94099f65259c",
   "metadata": {},
   "outputs": [],
   "source": []
  },
  {
   "cell_type": "code",
   "execution_count": 12,
   "id": "ea7902c86a08649b",
   "metadata": {
    "ExecuteTime": {
     "end_time": "2023-09-27T09:33:23.415608014Z",
     "start_time": "2023-09-27T09:33:23.380680999Z"
    },
    "collapsed": false,
    "jupyter": {
     "outputs_hidden": false
    }
   },
   "outputs": [],
   "source": [
    "#oof_df = oof_df.drop(['content', 'wording'], axis=1)"
   ]
  },
  {
   "cell_type": "code",
   "execution_count": 25,
   "id": "c4e4ffd313879ffb",
   "metadata": {
    "ExecuteTime": {
     "end_time": "2023-09-27T09:33:23.932855822Z",
     "start_time": "2023-09-27T09:33:23.912720501Z"
    },
    "collapsed": false,
    "jupyter": {
     "outputs_hidden": false
    }
   },
   "outputs": [],
   "source": [
    "full_df = df.merge(oof_df, on = ['student_id', 'prompt_id'])"
   ]
  },
  {
   "cell_type": "code",
   "execution_count": 26,
   "id": "64c054ed7d163ad5",
   "metadata": {
    "ExecuteTime": {
     "end_time": "2023-09-27T09:33:24.756054693Z",
     "start_time": "2023-09-27T09:33:24.736212881Z"
    },
    "collapsed": false,
    "jupyter": {
     "outputs_hidden": false
    }
   },
   "outputs": [],
   "source": [
    "feature_list = full_df.drop(['student_id', 'prompt_id', 'text', 'content', 'wording',\n",
    "                                       'prompt_question', 'prompt_title',\n",
    "                                       'prompt_text'\n",
    "                            ], axis=1).columns.tolist()"
   ]
  },
  {
   "cell_type": "code",
   "execution_count": 27,
   "id": "34dddbcf6324ce6",
   "metadata": {
    "ExecuteTime": {
     "end_time": "2023-09-27T09:33:25.807677009Z",
     "start_time": "2023-09-27T09:33:25.792677268Z"
    },
    "collapsed": false,
    "jupyter": {
     "outputs_hidden": false
    }
   },
   "outputs": [
    {
     "data": {
      "text/plain": [
       "['summary_length',\n",
       " 'splling_err_num',\n",
       " 'prompt_length',\n",
       " 'length_ratio',\n",
       " 'word_overlap_count',\n",
       " 'word_overlap_ratio',\n",
       " 'bigram_overlap_count',\n",
       " 'bigram_overlap_ratio',\n",
       " 'trigram_overlap_count',\n",
       " 'trigram_overlap_ratio',\n",
       " 'quotes_count',\n",
       " 'number_of_unique_words',\n",
       " 'flesch_kinsaid',\n",
       " 'flesch',\n",
       " 'gunning_fog',\n",
       " 'coleman_liau',\n",
       " 'dale_chall',\n",
       " 'ari',\n",
       " 'linsear_write',\n",
       " 'smog',\n",
       " 'spache',\n",
       " 'content_attn_pool',\n",
       " 'wording_attn_pool',\n",
       " 'content_conc_pool',\n",
       " 'wording_conc_pool',\n",
       " 'content_gem_pool',\n",
       " 'wording_gem_pool',\n",
       " 'content_lstm_pool',\n",
       " 'wording_lstm_pool',\n",
       " 'content_mean_pool',\n",
       " 'wording_mean_pool',\n",
       " 'content_gru_pool',\n",
       " 'wording_gru_pool',\n",
       " 'content_meanmax_pool',\n",
       " 'wording_meanmax_pool']"
      ]
     },
     "execution_count": 27,
     "metadata": {},
     "output_type": "execute_result"
    }
   ],
   "source": [
    "feature_list"
   ]
  },
  {
   "cell_type": "code",
   "execution_count": 29,
   "id": "af8deb1000e27249",
   "metadata": {
    "ExecuteTime": {
     "end_time": "2023-09-27T09:33:29.049390790Z",
     "start_time": "2023-09-27T09:33:29.025213629Z"
    },
    "collapsed": false,
    "jupyter": {
     "outputs_hidden": false
    }
   },
   "outputs": [],
   "source": [
    "FEATURE_LIST_CONTENT = copy.deepcopy(feature_list)"
   ]
  },
  {
   "cell_type": "code",
   "execution_count": 33,
   "id": "9309e997e6c3e3dc",
   "metadata": {
    "ExecuteTime": {
     "end_time": "2023-09-27T09:33:33.983425091Z",
     "start_time": "2023-09-27T09:33:33.968241206Z"
    },
    "collapsed": false,
    "jupyter": {
     "outputs_hidden": false
    }
   },
   "outputs": [],
   "source": [
    "def lgb_objective(trial):\n",
    "    \n",
    "    max_depth = trial.suggest_int('max_depth', 2, 10)\n",
    "    params = {\n",
    "        'boosting_type': 'gbdt',\n",
    "        'random_state': 42,\n",
    "        'objective': 'regression',\n",
    "        'metric': 'rmse',\n",
    "        'learning_rate': trial.suggest_float('learning_rate', 0.01, 0.1),\n",
    "        'max_depth': max_depth,\n",
    "        'lambda_l1': trial.suggest_loguniform('lambda_l1', 1e-8, 10.0),\n",
    "        'lambda_l2': trial.suggest_loguniform('lambda_l2', 1e-8, 10.0),\n",
    "        'num_leaves': trial.suggest_int('num_leaves', 2, 2**max_depth - 1),\n",
    "        'verbosity': -1  # Add this line to suppress warnings and info messages\n",
    "\n",
    "    }\n",
    "    \n",
    "    res = []\n",
    "    for prompt_id, data in full_df.groupby('prompt_id'):\n",
    "        \n",
    "        x_train = full_df[full_df['prompt_id']!=prompt_id].copy()\n",
    "        dtrain = lgb.Dataset(data=x_train[FEATURE_LIST_CONTENT], label=x_train['content'])\n",
    "        dtest = lgb.Dataset(data=data[FEATURE_LIST_CONTENT], label=data['content'])\n",
    "        \n",
    "        model = lgb.train(params,\n",
    "                      num_boost_round=10000,\n",
    "                      valid_names=['valid'],\n",
    "                      train_set=dtrain,\n",
    "                      valid_sets=dtest,\n",
    "                      callbacks=[\n",
    "                              lgb.early_stopping(stopping_rounds=200, verbose=False)])\n",
    "        \n",
    "        predictions = model.predict(data[FEATURE_LIST_CONTENT])\n",
    "        data.loc[:, 'prediction'] = predictions\n",
    "        res.append(data[['content', 'prediction']].copy())\n",
    "        \n",
    "    res_df = pd.concat(res, axis=0, ignore_index=True)\n",
    "    score = mean_squared_error(res_df['content'], res_df['prediction'], squared=False)\n",
    "    return score\n",
    "    "
   ]
  },
  {
   "cell_type": "code",
   "execution_count": 38,
   "id": "31aa186604bb4b5a",
   "metadata": {
    "ExecuteTime": {
     "end_time": "2023-09-27T09:33:34.815824113Z",
     "start_time": "2023-09-27T09:33:34.802625383Z"
    },
    "collapsed": false,
    "jupyter": {
     "outputs_hidden": false
    }
   },
   "outputs": [],
   "source": [
    "study = optuna.create_study(direction='minimize', sampler=optuna.samplers.TPESampler(seed=42))"
   ]
  },
  {
   "cell_type": "code",
   "execution_count": 39,
   "id": "68553a5e8a56341",
   "metadata": {},
   "outputs": [],
   "source": [
    "study.optimize(lgb_objective, n_trials=1000)"
   ]
  },
  {
   "cell_type": "code",
   "execution_count": 40,
   "id": "b1f74d101a238fd9",
   "metadata": {
    "ExecuteTime": {
     "end_time": "2023-09-27T09:40:06.753142897Z",
     "start_time": "2023-09-27T09:40:06.739474215Z"
    },
    "collapsed": false,
    "jupyter": {
     "outputs_hidden": false
    }
   },
   "outputs": [
    {
     "data": {
      "text/plain": [
       "{'max_depth': 2,\n",
       " 'learning_rate': 0.06217180233323965,\n",
       " 'lambda_l1': 3.809719942414819,\n",
       " 'lambda_l2': 0.0001136302094037265,\n",
       " 'num_leaves': 3}"
      ]
     },
     "execution_count": 40,
     "metadata": {},
     "output_type": "execute_result"
    }
   ],
   "source": [
    "study.best_params"
   ]
  },
  {
   "cell_type": "code",
   "execution_count": null,
   "id": "eb4ffced-60b8-4af0-9af5-992d83d65335",
   "metadata": {},
   "outputs": [],
   "source": []
  },
  {
   "cell_type": "code",
   "execution_count": 41,
   "id": "9d96120a958bb7e7",
   "metadata": {
    "ExecuteTime": {
     "end_time": "2023-09-27T09:40:08.643099585Z",
     "start_time": "2023-09-27T09:40:08.630717384Z"
    },
    "collapsed": false,
    "jupyter": {
     "outputs_hidden": false
    }
   },
   "outputs": [
    {
     "data": {
      "text/plain": [
       "0.42001436985625956"
      ]
     },
     "execution_count": 41,
     "metadata": {},
     "output_type": "execute_result"
    }
   ],
   "source": [
    "study.best_value"
   ]
  },
  {
   "cell_type": "code",
   "execution_count": 42,
   "id": "5db19b926dbb7ca6",
   "metadata": {
    "ExecuteTime": {
     "end_time": "2023-09-27T09:40:52.950370891Z",
     "start_time": "2023-09-27T09:40:52.904393940Z"
    },
    "collapsed": false,
    "jupyter": {
     "outputs_hidden": false
    }
   },
   "outputs": [],
   "source": [
    "lgb_content_params = {\n",
    "    'boosting_type': 'gbdt',\n",
    "    'random_state': 42,\n",
    "    'objective': 'regression',\n",
    "    'metric': 'rmse',\n",
    "    'learning_rate': 0.06217180233323965,\n",
    "    'max_depth': 2,\n",
    "    'lambda_l1': 3.809719942414819,\n",
    "    'lambda_l2': 0.0001136302094037265,\n",
    "    'num_leaves': 3,\n",
    "    'verbosity': -1  # Add this line to suppress warnings and info messages\n",
    "}"
   ]
  },
  {
   "cell_type": "code",
   "execution_count": 49,
   "id": "a5e8e540ad95b04d",
   "metadata": {
    "ExecuteTime": {
     "end_time": "2023-09-27T09:41:00.460918788Z",
     "start_time": "2023-09-27T09:41:00.450363572Z"
    },
    "collapsed": false,
    "jupyter": {
     "outputs_hidden": false
    }
   },
   "outputs": [],
   "source": [
    "def feature_selection(trial):\n",
    "    # 'summary_length', 'splling_err_num',\n",
    "    #    'prompt_length', 'length_ratio', 'word_overlap_count',\n",
    "    #    'bigram_overlap_count', 'bigram_overlap_ratio', 'trigram_overlap_count',\n",
    "    #    'trigram_overlap_ratio', 'quotes_count', 'number_of_unique_words',\n",
    "    #    'jaccard_similarity', 'pred_content', 'pred_wording'\n",
    "    feature_dict = {}\n",
    "    for feature in FEATURE_LIST_CONTENT:\n",
    "        if 'content' in feature:\n",
    "            feature_dict[feature] = 'use'\n",
    "        else:\n",
    "            feature_dict[feature] = trial.suggest_categorical(feature, ('use', 'drop'))\n",
    "        \n",
    "    \n",
    "    new_feature_list = [key for key, value in feature_dict.items() if value != 'drop']\n",
    "    res = []\n",
    "    for prompt_id, data in full_df.groupby('prompt_id'):\n",
    "        \n",
    "        x_train = full_df[full_df['prompt_id']!=prompt_id].copy()\n",
    "        dtrain = lgb.Dataset(data=x_train[new_feature_list], label=x_train['content'])\n",
    "        dtest = lgb.Dataset(data=data[new_feature_list], label=data['content'])\n",
    "        \n",
    "        model = lgb.train(lgb_content_params,\n",
    "                      num_boost_round=10000,\n",
    "                      valid_names=['valid'],\n",
    "                      train_set=dtrain,\n",
    "                      valid_sets=dtest,\n",
    "                      callbacks=[\n",
    "                              lgb.early_stopping(stopping_rounds=200, verbose=False)])\n",
    "        \n",
    "        predictions = model.predict(data[new_feature_list])\n",
    "        data.loc[:, 'prediction'] = predictions\n",
    "        res.append(data[['content', 'prediction']].copy())\n",
    "        \n",
    "    res_df = pd.concat(res, axis=0, ignore_index=True)\n",
    "    score = mean_squared_error(res_df['content'], res_df['prediction'], squared=False)\n",
    "    return score\n",
    "    "
   ]
  },
  {
   "cell_type": "code",
   "execution_count": 50,
   "id": "cd3151cfb4cfd1fd",
   "metadata": {
    "ExecuteTime": {
     "end_time": "2023-09-27T09:41:01.968788528Z",
     "start_time": "2023-09-27T09:41:01.954021544Z"
    },
    "collapsed": false,
    "jupyter": {
     "outputs_hidden": false
    }
   },
   "outputs": [],
   "source": [
    "study = optuna.create_study(direction='minimize', sampler=optuna.samplers.TPESampler(seed=42))"
   ]
  },
  {
   "cell_type": "code",
   "execution_count": 51,
   "id": "10f9e95f17dc5723",
   "metadata": {},
   "outputs": [],
   "source": [
    "study.optimize(feature_selection, n_trials=1000)"
   ]
  },
  {
   "cell_type": "code",
   "execution_count": 52,
   "id": "65cd8268adc9d4f2",
   "metadata": {
    "ExecuteTime": {
     "end_time": "2023-09-27T09:53:25.684050442Z",
     "start_time": "2023-09-27T09:53:25.670998725Z"
    },
    "collapsed": false,
    "jupyter": {
     "outputs_hidden": false
    }
   },
   "outputs": [],
   "source": [
    "feature_dict = study.best_params"
   ]
  },
  {
   "cell_type": "code",
   "execution_count": 53,
   "id": "540d73e613689697",
   "metadata": {
    "ExecuteTime": {
     "end_time": "2023-09-27T09:53:26.300892821Z",
     "start_time": "2023-09-27T09:53:26.287783800Z"
    },
    "collapsed": false,
    "jupyter": {
     "outputs_hidden": false
    }
   },
   "outputs": [
    {
     "data": {
      "text/plain": [
       "{'summary_length': 'drop',\n",
       " 'splling_err_num': 'drop',\n",
       " 'prompt_length': 'drop',\n",
       " 'length_ratio': 'drop',\n",
       " 'word_overlap_count': 'drop',\n",
       " 'word_overlap_ratio': 'drop',\n",
       " 'bigram_overlap_count': 'drop',\n",
       " 'bigram_overlap_ratio': 'use',\n",
       " 'trigram_overlap_count': 'drop',\n",
       " 'trigram_overlap_ratio': 'use',\n",
       " 'quotes_count': 'drop',\n",
       " 'number_of_unique_words': 'drop',\n",
       " 'flesch_kinsaid': 'use',\n",
       " 'flesch': 'drop',\n",
       " 'gunning_fog': 'use',\n",
       " 'coleman_liau': 'drop',\n",
       " 'dale_chall': 'drop',\n",
       " 'ari': 'drop',\n",
       " 'linsear_write': 'use',\n",
       " 'smog': 'drop',\n",
       " 'spache': 'drop',\n",
       " 'wording_attn_pool': 'use',\n",
       " 'wording_conc_pool': 'drop',\n",
       " 'wording_gem_pool': 'drop',\n",
       " 'wording_lstm_pool': 'drop',\n",
       " 'wording_mean_pool': 'use',\n",
       " 'wording_gru_pool': 'use',\n",
       " 'wording_meanmax_pool': 'drop'}"
      ]
     },
     "execution_count": 53,
     "metadata": {},
     "output_type": "execute_result"
    }
   ],
   "source": [
    "feature_dict"
   ]
  },
  {
   "cell_type": "code",
   "execution_count": 54,
   "id": "2ae812922d93cc29",
   "metadata": {
    "ExecuteTime": {
     "end_time": "2023-09-27T09:53:28.867595190Z",
     "start_time": "2023-09-27T09:53:28.855696859Z"
    },
    "collapsed": false,
    "jupyter": {
     "outputs_hidden": false
    }
   },
   "outputs": [
    {
     "data": {
      "text/plain": [
       "0.41659761796847694"
      ]
     },
     "execution_count": 54,
     "metadata": {},
     "output_type": "execute_result"
    }
   ],
   "source": [
    "study.best_value"
   ]
  },
  {
   "cell_type": "code",
   "execution_count": 55,
   "id": "5f2059e6fe0dbfb3",
   "metadata": {
    "ExecuteTime": {
     "end_time": "2023-09-27T09:53:30.770073953Z",
     "start_time": "2023-09-27T09:53:30.757850755Z"
    },
    "collapsed": false,
    "jupyter": {
     "outputs_hidden": false
    }
   },
   "outputs": [],
   "source": [
    "UPDATED_FEATURE_LIST_CONTENT = []\n",
    "for feature in FEATURE_LIST_CONTENT:\n",
    "    if feature not in feature_dict.keys():\n",
    "        UPDATED_FEATURE_LIST_CONTENT.append(feature)\n",
    "    else:\n",
    "        if feature_dict[feature] == 'use':\n",
    "            UPDATED_FEATURE_LIST_CONTENT.append(feature)"
   ]
  },
  {
   "cell_type": "code",
   "execution_count": 56,
   "id": "d793e585-a518-47a0-bd86-fceffcb53357",
   "metadata": {},
   "outputs": [
    {
     "data": {
      "text/plain": [
       "['bigram_overlap_ratio',\n",
       " 'trigram_overlap_ratio',\n",
       " 'flesch_kinsaid',\n",
       " 'gunning_fog',\n",
       " 'linsear_write',\n",
       " 'content_attn_pool',\n",
       " 'wording_attn_pool',\n",
       " 'content_conc_pool',\n",
       " 'content_gem_pool',\n",
       " 'content_lstm_pool',\n",
       " 'content_mean_pool',\n",
       " 'wording_mean_pool',\n",
       " 'content_gru_pool',\n",
       " 'wording_gru_pool',\n",
       " 'content_meanmax_pool']"
      ]
     },
     "execution_count": 56,
     "metadata": {},
     "output_type": "execute_result"
    }
   ],
   "source": [
    "UPDATED_FEATURE_LIST_CONTENT"
   ]
  },
  {
   "cell_type": "code",
   "execution_count": 58,
   "id": "fd9b7f40afecbe3d",
   "metadata": {
    "ExecuteTime": {
     "end_time": "2023-09-27T09:53:48.776198635Z",
     "start_time": "2023-09-27T09:53:48.750217570Z"
    },
    "collapsed": false,
    "jupyter": {
     "outputs_hidden": false
    }
   },
   "outputs": [],
   "source": [
    "def lgb_objective(trial):\n",
    "    \n",
    "    max_depth = trial.suggest_int('max_depth', 2, 10)\n",
    "    params = {\n",
    "        'boosting_type': 'gbdt',\n",
    "        'random_state': 42,\n",
    "        'objective': 'regression',\n",
    "        'metric': 'rmse',\n",
    "        'learning_rate': trial.suggest_float('learning_rate', 0.01, 0.1),\n",
    "        'max_depth': max_depth,\n",
    "        'lambda_l1': trial.suggest_loguniform('lambda_l1', 1e-8, 10.0),\n",
    "        'lambda_l2': trial.suggest_loguniform('lambda_l2', 1e-8, 10.0),\n",
    "        'num_leaves': trial.suggest_int('num_leaves', 2, 2**max_depth - 1),\n",
    "        'verbosity': -1  # Add this line to suppress warnings and info messages\n",
    "\n",
    "    }\n",
    "    \n",
    "    res = []\n",
    "    for prompt_id, data in full_df.groupby('prompt_id'):\n",
    "        \n",
    "        x_train = full_df[full_df['prompt_id']!=prompt_id].copy()\n",
    "        dtrain = lgb.Dataset(data=x_train[UPDATED_FEATURE_LIST_CONTENT], label=x_train['content'])\n",
    "        dtest = lgb.Dataset(data=data[UPDATED_FEATURE_LIST_CONTENT], label=data['content'])\n",
    "        \n",
    "        model = lgb.train(params,\n",
    "                      num_boost_round=10000,\n",
    "                      valid_names=['valid'],\n",
    "                      train_set=dtrain,\n",
    "                      valid_sets=dtest,\n",
    "                      callbacks=[\n",
    "                              lgb.early_stopping(stopping_rounds=200, verbose=False)])\n",
    "        \n",
    "        predictions = model.predict(data[UPDATED_FEATURE_LIST_CONTENT])\n",
    "        data.loc[:, 'prediction'] = predictions\n",
    "        res.append(data[['content', 'prediction']].copy())\n",
    "        \n",
    "    res_df = pd.concat(res, axis=0, ignore_index=True)\n",
    "    score = mean_squared_error(res_df['content'], res_df['prediction'], squared=False)\n",
    "    return score"
   ]
  },
  {
   "cell_type": "code",
   "execution_count": 59,
   "id": "24cfa5e8d70c113e",
   "metadata": {},
   "outputs": [],
   "source": [
    "study = optuna.create_study(direction='minimize', sampler=optuna.samplers.TPESampler(seed=42))\n",
    "study.optimize(lgb_objective, n_trials=1000)"
   ]
  },
  {
   "cell_type": "code",
   "execution_count": 60,
   "id": "585c1993971d55ce",
   "metadata": {
    "ExecuteTime": {
     "end_time": "2023-09-27T09:59:41.373924409Z",
     "start_time": "2023-09-27T09:59:41.324091556Z"
    },
    "collapsed": false,
    "jupyter": {
     "outputs_hidden": false
    }
   },
   "outputs": [
    {
     "data": {
      "text/plain": [
       "{'max_depth': 3,\n",
       " 'learning_rate': 0.036896529166717484,\n",
       " 'lambda_l1': 1.1243982150236251,\n",
       " 'lambda_l2': 0.06777200422733183,\n",
       " 'num_leaves': 3}"
      ]
     },
     "execution_count": 60,
     "metadata": {},
     "output_type": "execute_result"
    }
   ],
   "source": [
    "study.best_params"
   ]
  },
  {
   "cell_type": "code",
   "execution_count": 61,
   "id": "b3f9c5d7b5e59a21",
   "metadata": {
    "ExecuteTime": {
     "end_time": "2023-09-27T09:59:44.246834452Z",
     "start_time": "2023-09-27T09:59:44.235025468Z"
    },
    "collapsed": false,
    "jupyter": {
     "outputs_hidden": false
    }
   },
   "outputs": [],
   "source": [
    "content_best_score = study.best_value"
   ]
  },
  {
   "cell_type": "code",
   "execution_count": 62,
   "id": "8df90e43c22d88aa",
   "metadata": {
    "ExecuteTime": {
     "end_time": "2023-09-27T09:59:44.767431274Z",
     "start_time": "2023-09-27T09:59:44.753626173Z"
    },
    "collapsed": false,
    "jupyter": {
     "outputs_hidden": false
    }
   },
   "outputs": [
    {
     "data": {
      "text/plain": [
       "0.4154742412317312"
      ]
     },
     "execution_count": 62,
     "metadata": {},
     "output_type": "execute_result"
    }
   ],
   "source": [
    "content_best_score"
   ]
  },
  {
   "cell_type": "code",
   "execution_count": 63,
   "id": "cd5b102133b1096d",
   "metadata": {
    "ExecuteTime": {
     "end_time": "2023-09-27T10:00:50.199293130Z",
     "start_time": "2023-09-27T10:00:50.153261307Z"
    },
    "collapsed": false,
    "jupyter": {
     "outputs_hidden": false
    }
   },
   "outputs": [],
   "source": [
    "best_params_content = {\n",
    "    'boosting_type': 'gbdt',\n",
    "    'random_state': 42,\n",
    "    'objective': 'regression',\n",
    "    'metric': 'rmse',\n",
    "    'learning_rate': 0.036896529166717484,\n",
    "    'max_depth': 3,\n",
    "    'lambda_l1': 1.1243982150236251,\n",
    "    'lambda_l2': 0.06777200422733183,\n",
    "    'num_leaves': 3,\n",
    "    'verbosity': -1  # Add this line to suppress warnings and info messages\n",
    "}"
   ]
  },
  {
   "cell_type": "code",
   "execution_count": 64,
   "id": "1c017640e6aceceb",
   "metadata": {
    "ExecuteTime": {
     "end_time": "2023-09-27T10:00:52.450113447Z",
     "start_time": "2023-09-27T10:00:52.413959829Z"
    },
    "collapsed": false,
    "jupyter": {
     "outputs_hidden": false
    }
   },
   "outputs": [
    {
     "data": {
      "text/plain": [
       "['bigram_overlap_ratio',\n",
       " 'trigram_overlap_ratio',\n",
       " 'flesch_kinsaid',\n",
       " 'gunning_fog',\n",
       " 'linsear_write',\n",
       " 'content_attn_pool',\n",
       " 'wording_attn_pool',\n",
       " 'content_conc_pool',\n",
       " 'content_gem_pool',\n",
       " 'content_lstm_pool',\n",
       " 'content_mean_pool',\n",
       " 'wording_mean_pool',\n",
       " 'content_gru_pool',\n",
       " 'wording_gru_pool',\n",
       " 'content_meanmax_pool']"
      ]
     },
     "execution_count": 64,
     "metadata": {},
     "output_type": "execute_result"
    }
   ],
   "source": [
    "UPDATED_FEATURE_LIST_CONTENT"
   ]
  },
  {
   "cell_type": "code",
   "execution_count": 65,
   "id": "9af61465bd372d20",
   "metadata": {
    "ExecuteTime": {
     "end_time": "2023-09-27T10:00:58.387376614Z",
     "start_time": "2023-09-27T10:00:58.366688297Z"
    },
    "collapsed": false,
    "jupyter": {
     "outputs_hidden": false
    }
   },
   "outputs": [],
   "source": [
    "FEATURE_LIST_WORDING = copy.deepcopy(feature_list)"
   ]
  },
  {
   "cell_type": "code",
   "execution_count": 80,
   "id": "945f67fc-cca7-47bd-a051-9415e11af855",
   "metadata": {},
   "outputs": [
    {
     "data": {
      "text/plain": [
       "['summary_length',\n",
       " 'splling_err_num',\n",
       " 'prompt_length',\n",
       " 'length_ratio',\n",
       " 'word_overlap_count',\n",
       " 'word_overlap_ratio',\n",
       " 'bigram_overlap_count',\n",
       " 'bigram_overlap_ratio',\n",
       " 'trigram_overlap_count',\n",
       " 'trigram_overlap_ratio',\n",
       " 'quotes_count',\n",
       " 'number_of_unique_words',\n",
       " 'flesch_kinsaid',\n",
       " 'flesch',\n",
       " 'gunning_fog',\n",
       " 'coleman_liau',\n",
       " 'dale_chall',\n",
       " 'ari',\n",
       " 'linsear_write',\n",
       " 'smog',\n",
       " 'spache',\n",
       " 'content_attn_pool',\n",
       " 'wording_attn_pool',\n",
       " 'content_conc_pool',\n",
       " 'wording_conc_pool',\n",
       " 'content_gem_pool',\n",
       " 'wording_gem_pool',\n",
       " 'content_lstm_pool',\n",
       " 'wording_lstm_pool',\n",
       " 'content_mean_pool',\n",
       " 'wording_mean_pool',\n",
       " 'content_gru_pool',\n",
       " 'wording_gru_pool',\n",
       " 'content_meanmax_pool',\n",
       " 'wording_meanmax_pool']"
      ]
     },
     "execution_count": 80,
     "metadata": {},
     "output_type": "execute_result"
    }
   ],
   "source": [
    "FEATURE_LIST_WORDING"
   ]
  },
  {
   "cell_type": "code",
   "execution_count": 68,
   "id": "940f350308b52b1f",
   "metadata": {
    "ExecuteTime": {
     "end_time": "2023-09-27T10:00:59.614764698Z",
     "start_time": "2023-09-27T10:00:59.600661853Z"
    },
    "collapsed": false,
    "jupyter": {
     "outputs_hidden": false
    }
   },
   "outputs": [],
   "source": [
    "def lgb_objective(trial):\n",
    "    \n",
    "    max_depth = trial.suggest_int('max_depth', 2, 10)\n",
    "    params = {\n",
    "        'boosting_type': 'gbdt',\n",
    "        'random_state': 42,\n",
    "        'objective': 'regression',\n",
    "        'metric': 'rmse',\n",
    "        'learning_rate': trial.suggest_float('learning_rate', 0.01, 0.1),\n",
    "        'max_depth': max_depth,\n",
    "        'lambda_l1': trial.suggest_loguniform('lambda_l1', 1e-8, 10.0),\n",
    "        'lambda_l2': trial.suggest_loguniform('lambda_l2', 1e-8, 10.0),\n",
    "        'num_leaves': trial.suggest_int('num_leaves', 2, 2**max_depth - 1),\n",
    "        'verbosity': -1  # Add this line to suppress warnings and info messages\n",
    "\n",
    "    }\n",
    "    \n",
    "    res = []\n",
    "    for prompt_id, data in full_df.groupby('prompt_id'):\n",
    "        \n",
    "        x_train = full_df[full_df['prompt_id']!=prompt_id].copy()\n",
    "        dtrain = lgb.Dataset(data=x_train[FEATURE_LIST_WORDING], label=x_train['wording'])\n",
    "        dtest = lgb.Dataset(data=data[FEATURE_LIST_WORDING], label=data['wording'])\n",
    "        \n",
    "        model = lgb.train(params,\n",
    "                      num_boost_round=10000,\n",
    "                      valid_names=['valid'],\n",
    "                      train_set=dtrain,\n",
    "                      valid_sets=dtest,\n",
    "                      callbacks=[\n",
    "                              lgb.early_stopping(stopping_rounds=200, verbose=False)])\n",
    "        \n",
    "        predictions = model.predict(data[FEATURE_LIST_WORDING])\n",
    "        data.loc[:, 'prediction'] = predictions\n",
    "        res.append(data[['wording', 'prediction']].copy())\n",
    "        \n",
    "    res_df = pd.concat(res, axis=0, ignore_index=True)\n",
    "    score = mean_squared_error(res_df['wording'], res_df['prediction'], squared=False)\n",
    "    return score"
   ]
  },
  {
   "cell_type": "code",
   "execution_count": 69,
   "id": "15986e196d457c48",
   "metadata": {},
   "outputs": [],
   "source": [
    "study = optuna.create_study(direction='minimize', sampler=optuna.samplers.TPESampler(seed=42))\n",
    "study.optimize(lgb_objective, n_trials=1000)"
   ]
  },
  {
   "cell_type": "code",
   "execution_count": 70,
   "id": "cf89eccaf93bc8eb",
   "metadata": {
    "ExecuteTime": {
     "end_time": "2023-09-27T10:06:51.210887661Z",
     "start_time": "2023-09-27T10:06:51.153910107Z"
    },
    "collapsed": false,
    "jupyter": {
     "outputs_hidden": false
    }
   },
   "outputs": [
    {
     "data": {
      "text/plain": [
       "{'max_depth': 3,\n",
       " 'learning_rate': 0.05925967774388273,\n",
       " 'lambda_l1': 0.8205074986845817,\n",
       " 'lambda_l2': 1.2150694364937778e-06,\n",
       " 'num_leaves': 4}"
      ]
     },
     "execution_count": 70,
     "metadata": {},
     "output_type": "execute_result"
    }
   ],
   "source": [
    "study.best_params"
   ]
  },
  {
   "cell_type": "code",
   "execution_count": 71,
   "id": "f9151668cbdb4d76",
   "metadata": {
    "ExecuteTime": {
     "end_time": "2023-09-27T10:06:53.607332828Z",
     "start_time": "2023-09-27T10:06:53.596192427Z"
    },
    "collapsed": false,
    "jupyter": {
     "outputs_hidden": false
    }
   },
   "outputs": [
    {
     "data": {
      "text/plain": [
       "0.5651926861202722"
      ]
     },
     "execution_count": 71,
     "metadata": {},
     "output_type": "execute_result"
    }
   ],
   "source": [
    "study.best_value"
   ]
  },
  {
   "cell_type": "code",
   "execution_count": 72,
   "id": "50724f0103589008",
   "metadata": {
    "ExecuteTime": {
     "end_time": "2023-09-27T10:07:36.287509661Z",
     "start_time": "2023-09-27T10:07:36.242329215Z"
    },
    "collapsed": false,
    "jupyter": {
     "outputs_hidden": false
    }
   },
   "outputs": [],
   "source": [
    "lgb_wording_params = {\n",
    "    'boosting_type': 'gbdt',\n",
    "    'random_state': 42,\n",
    "    'objective': 'regression',\n",
    "    'metric': 'rmse',\n",
    "    'learning_rate': 0.05925967774388273,\n",
    "    'max_depth': 3,\n",
    "    'lambda_l1': 0.8205074986845817,\n",
    "    'lambda_l2': 1.2150694364937778e-06,\n",
    "    'num_leaves': 4,\n",
    "    'verbosity': -1  # Add this line to suppress warnings and info messages\n",
    "}"
   ]
  },
  {
   "cell_type": "code",
   "execution_count": 73,
   "id": "e7ca65c96318ee94",
   "metadata": {
    "ExecuteTime": {
     "end_time": "2023-09-27T10:07:37.395483208Z",
     "start_time": "2023-09-27T10:07:37.367789270Z"
    },
    "collapsed": false,
    "jupyter": {
     "outputs_hidden": false
    }
   },
   "outputs": [],
   "source": [
    "def feature_selection(trial):\n",
    "    # 'summary_length', 'splling_err_num',\n",
    "    #    'prompt_length', 'length_ratio', 'word_overlap_count',\n",
    "    #    'bigram_overlap_count', 'bigram_overlap_ratio', 'trigram_overlap_count',\n",
    "    #    'trigram_overlap_ratio', 'quotes_count', 'number_of_unique_words',\n",
    "    #    'jaccard_similarity', 'pred_content', 'pred_wording'\n",
    "    feature_dict = {}\n",
    "    for feature in FEATURE_LIST_WORDING:\n",
    "        if 'wording' in feature:\n",
    "            feature_dict[feature] = 'use'\n",
    "        else:\n",
    "            feature_dict[feature] = trial.suggest_categorical(feature, ('use', 'drop'))\n",
    "    \n",
    "    new_feature_list = [key for key, value in feature_dict.items() if value != 'drop']\n",
    "    res = []\n",
    "    for prompt_id, data in full_df.groupby('prompt_id'):\n",
    "        \n",
    "        x_train = full_df[full_df['prompt_id']!=prompt_id].copy()\n",
    "        dtrain = lgb.Dataset(data=x_train[new_feature_list], label=x_train['wording'])\n",
    "        dtest = lgb.Dataset(data=data[new_feature_list], label=data['wording'])\n",
    "        \n",
    "        model = lgb.train(lgb_wording_params,\n",
    "                      num_boost_round=10000,\n",
    "                      valid_names=['valid'],\n",
    "                      train_set=dtrain,\n",
    "                      valid_sets=dtest,\n",
    "                      callbacks=[\n",
    "                              lgb.early_stopping(stopping_rounds=200, verbose=False)])\n",
    "        \n",
    "        predictions = model.predict(data[new_feature_list])\n",
    "        data.loc[:, 'prediction'] = predictions\n",
    "        res.append(data[['wording', 'prediction']].copy())\n",
    "        \n",
    "    res_df = pd.concat(res, axis=0, ignore_index=True)\n",
    "    score = mean_squared_error(res_df['wording'], res_df['prediction'], squared=False)\n",
    "    return score"
   ]
  },
  {
   "cell_type": "code",
   "execution_count": 74,
   "id": "6a953fb0564b7fc3",
   "metadata": {},
   "outputs": [],
   "source": [
    "study = optuna.create_study(direction='minimize', sampler=optuna.samplers.TPESampler(seed=42))\n",
    "study.optimize(feature_selection, n_trials=1000)"
   ]
  },
  {
   "cell_type": "code",
   "execution_count": 81,
   "id": "fd4e790ce72a5d43",
   "metadata": {
    "ExecuteTime": {
     "end_time": "2023-09-27T10:11:48.008614869Z",
     "start_time": "2023-09-27T10:11:47.986952756Z"
    },
    "collapsed": false,
    "jupyter": {
     "outputs_hidden": false
    }
   },
   "outputs": [],
   "source": [
    "feature_dict = study.best_params"
   ]
  },
  {
   "cell_type": "code",
   "execution_count": 82,
   "id": "c507ee473685694a",
   "metadata": {
    "ExecuteTime": {
     "end_time": "2023-09-27T10:11:52.983532711Z",
     "start_time": "2023-09-27T10:11:52.968378133Z"
    },
    "collapsed": false,
    "jupyter": {
     "outputs_hidden": false
    }
   },
   "outputs": [],
   "source": [
    "UPDATED_FEATURE_LIST_WORDING = []\n",
    "for feature in FEATURE_LIST_WORDING:\n",
    "    if feature not in feature_dict.keys():\n",
    "        UPDATED_FEATURE_LIST_WORDING.append(feature)\n",
    "    else:\n",
    "        if feature_dict[feature] == 'use':\n",
    "            UPDATED_FEATURE_LIST_WORDING.append(feature)"
   ]
  },
  {
   "cell_type": "code",
   "execution_count": 83,
   "id": "7ac005c5-7e51-4c7e-aa64-ad13b22846be",
   "metadata": {},
   "outputs": [
    {
     "data": {
      "text/plain": [
       "['length_ratio',\n",
       " 'word_overlap_count',\n",
       " 'word_overlap_ratio',\n",
       " 'bigram_overlap_count',\n",
       " 'bigram_overlap_ratio',\n",
       " 'quotes_count',\n",
       " 'linsear_write',\n",
       " 'wording_attn_pool',\n",
       " 'content_conc_pool',\n",
       " 'wording_conc_pool',\n",
       " 'content_gem_pool',\n",
       " 'wording_gem_pool',\n",
       " 'wording_lstm_pool',\n",
       " 'wording_mean_pool',\n",
       " 'wording_gru_pool',\n",
       " 'wording_meanmax_pool']"
      ]
     },
     "execution_count": 83,
     "metadata": {},
     "output_type": "execute_result"
    }
   ],
   "source": [
    "UPDATED_FEATURE_LIST_WORDING"
   ]
  },
  {
   "cell_type": "code",
   "execution_count": 84,
   "id": "3f03d5cb-4d0b-4e5a-ab27-49ac570246bf",
   "metadata": {},
   "outputs": [
    {
     "data": {
      "text/plain": [
       "0.5655373600157818"
      ]
     },
     "execution_count": 84,
     "metadata": {},
     "output_type": "execute_result"
    }
   ],
   "source": [
    "study.best_value"
   ]
  },
  {
   "cell_type": "code",
   "execution_count": 85,
   "id": "d38d29aa2039665e",
   "metadata": {
    "ExecuteTime": {
     "end_time": "2023-09-27T10:12:00.988353412Z",
     "start_time": "2023-09-27T10:12:00.974993432Z"
    },
    "collapsed": false,
    "jupyter": {
     "outputs_hidden": false
    }
   },
   "outputs": [],
   "source": [
    "def lgb_objective(trial):\n",
    "    \n",
    "    max_depth = trial.suggest_int('max_depth', 2, 10)\n",
    "    params = {\n",
    "        'boosting_type': 'gbdt',\n",
    "        'random_state': 42,\n",
    "        'objective': 'regression',\n",
    "        'metric': 'rmse',\n",
    "        'learning_rate': trial.suggest_float('learning_rate', 0.01, 0.1),\n",
    "        'max_depth': max_depth,\n",
    "        'lambda_l1': trial.suggest_loguniform('lambda_l1', 1e-8, 10.0),\n",
    "        'lambda_l2': trial.suggest_loguniform('lambda_l2', 1e-8, 10.0),\n",
    "        'num_leaves': trial.suggest_int('num_leaves', 2, 2**max_depth - 1),\n",
    "        'verbosity': -1  # Add this line to suppress warnings and info messages\n",
    "\n",
    "    }\n",
    "    \n",
    "    res = []\n",
    "    for prompt_id, data in full_df.groupby('prompt_id'):\n",
    "        \n",
    "        x_train = full_df[full_df['prompt_id']!=prompt_id].copy()\n",
    "        dtrain = lgb.Dataset(data=x_train[UPDATED_FEATURE_LIST_WORDING], label=x_train['wording'])\n",
    "        dtest = lgb.Dataset(data=data[UPDATED_FEATURE_LIST_WORDING], label=data['wording'])\n",
    "        \n",
    "        model = lgb.train(params,\n",
    "                      num_boost_round=10000,\n",
    "                      valid_names=['valid'],\n",
    "                      train_set=dtrain,\n",
    "                      valid_sets=dtest,\n",
    "                      callbacks=[\n",
    "                              lgb.early_stopping(stopping_rounds=200, verbose=False)])\n",
    "        \n",
    "        predictions = model.predict(data[UPDATED_FEATURE_LIST_WORDING])\n",
    "        data.loc[:, 'prediction'] = predictions\n",
    "        res.append(data[['wording', 'prediction']].copy())\n",
    "        \n",
    "    res_df = pd.concat(res, axis=0, ignore_index=True)\n",
    "    score = mean_squared_error(res_df['wording'], res_df['prediction'], squared=False)\n",
    "    return score"
   ]
  },
  {
   "cell_type": "code",
   "execution_count": 86,
   "id": "580930b2161fbb57",
   "metadata": {},
   "outputs": [],
   "source": [
    "study = optuna.create_study(direction='minimize', sampler=optuna.samplers.TPESampler(seed=42))\n",
    "study.optimize(lgb_objective, n_trials=1000)"
   ]
  },
  {
   "cell_type": "code",
   "execution_count": 87,
   "id": "8f08b5068e78d742",
   "metadata": {
    "ExecuteTime": {
     "end_time": "2023-09-27T10:19:24.480058403Z",
     "start_time": "2023-09-27T10:19:23.944383716Z"
    },
    "collapsed": false,
    "jupyter": {
     "outputs_hidden": false
    }
   },
   "outputs": [],
   "source": [
    "best_score_wording = study.best_value"
   ]
  },
  {
   "cell_type": "code",
   "execution_count": 88,
   "id": "431e1999a43c333a",
   "metadata": {
    "ExecuteTime": {
     "end_time": "2023-09-27T10:19:25.483730955Z",
     "start_time": "2023-09-27T10:19:25.434785969Z"
    },
    "collapsed": false,
    "jupyter": {
     "outputs_hidden": false
    }
   },
   "outputs": [
    {
     "data": {
      "text/plain": [
       "0.5618506924647094"
      ]
     },
     "execution_count": 88,
     "metadata": {},
     "output_type": "execute_result"
    }
   ],
   "source": [
    "best_score_wording"
   ]
  },
  {
   "cell_type": "code",
   "execution_count": 89,
   "id": "854b45199ed1bcee",
   "metadata": {
    "ExecuteTime": {
     "end_time": "2023-09-27T10:19:28.915636632Z",
     "start_time": "2023-09-27T10:19:28.349662217Z"
    },
    "collapsed": false,
    "jupyter": {
     "outputs_hidden": false
    }
   },
   "outputs": [
    {
     "data": {
      "text/plain": [
       "{'max_depth': 5,\n",
       " 'learning_rate': 0.062143850305355686,\n",
       " 'lambda_l1': 0.008924228670105123,\n",
       " 'lambda_l2': 0.238561343589459,\n",
       " 'num_leaves': 8}"
      ]
     },
     "execution_count": 89,
     "metadata": {},
     "output_type": "execute_result"
    }
   ],
   "source": [
    "study.best_params"
   ]
  },
  {
   "cell_type": "code",
   "execution_count": 90,
   "id": "f596df2d8ae40c77",
   "metadata": {
    "ExecuteTime": {
     "end_time": "2023-09-27T10:21:02.635983991Z",
     "start_time": "2023-09-27T10:21:02.627970528Z"
    },
    "collapsed": false,
    "jupyter": {
     "outputs_hidden": false
    }
   },
   "outputs": [],
   "source": [
    "best_params_wording = {\n",
    "    'boosting_type': 'gbdt',\n",
    "    'random_state': 42,\n",
    "    'objective': 'regression',\n",
    "    'metric': 'rmse',\n",
    "    'learning_rate': 0.062143850305355686,\n",
    "    'max_depth': 5,\n",
    "    'lambda_l1': 0.008924228670105123,\n",
    "    'lambda_l2': 0.238561343589459,\n",
    "    'num_leaves': 8,\n",
    "    'verbosity': -1  # Add this line to suppress warnings and info messages\n",
    "}"
   ]
  },
  {
   "cell_type": "code",
   "execution_count": 91,
   "id": "600b2f401d39e4f6",
   "metadata": {
    "ExecuteTime": {
     "end_time": "2023-09-27T10:21:03.750865338Z",
     "start_time": "2023-09-27T10:21:03.738506260Z"
    },
    "collapsed": false,
    "jupyter": {
     "outputs_hidden": false
    }
   },
   "outputs": [
    {
     "data": {
      "text/plain": [
       "['length_ratio',\n",
       " 'word_overlap_count',\n",
       " 'word_overlap_ratio',\n",
       " 'bigram_overlap_count',\n",
       " 'bigram_overlap_ratio',\n",
       " 'quotes_count',\n",
       " 'linsear_write',\n",
       " 'wording_attn_pool',\n",
       " 'content_conc_pool',\n",
       " 'wording_conc_pool',\n",
       " 'content_gem_pool',\n",
       " 'wording_gem_pool',\n",
       " 'wording_lstm_pool',\n",
       " 'wording_mean_pool',\n",
       " 'wording_gru_pool',\n",
       " 'wording_meanmax_pool']"
      ]
     },
     "execution_count": 91,
     "metadata": {},
     "output_type": "execute_result"
    }
   ],
   "source": [
    "UPDATED_FEATURE_LIST_WORDING"
   ]
  },
  {
   "cell_type": "code",
   "execution_count": 92,
   "id": "763bfdb9e30b38be",
   "metadata": {
    "ExecuteTime": {
     "end_time": "2023-09-27T10:21:07.472358545Z",
     "start_time": "2023-09-27T10:21:07.438215450Z"
    },
    "collapsed": false,
    "jupyter": {
     "outputs_hidden": false
    }
   },
   "outputs": [
    {
     "data": {
      "text/plain": [
       "0.48866246684822034"
      ]
     },
     "execution_count": 92,
     "metadata": {},
     "output_type": "execute_result"
    }
   ],
   "source": [
    "#MCRMSE\n",
    "(best_score_wording + content_best_score)/2"
   ]
  },
  {
   "cell_type": "code",
   "execution_count": 93,
   "id": "7a4154471f12f08e",
   "metadata": {
    "ExecuteTime": {
     "end_time": "2023-09-26T18:10:43.538400276Z",
     "start_time": "2023-09-26T18:10:43.491688465Z"
    },
    "collapsed": false,
    "jupyter": {
     "outputs_hidden": false
    }
   },
   "outputs": [],
   "source": [
    "## create oof predictions"
   ]
  },
  {
   "cell_type": "code",
   "execution_count": 94,
   "id": "97a76990f71c608a",
   "metadata": {
    "ExecuteTime": {
     "end_time": "2023-09-27T10:21:12.429990168Z",
     "start_time": "2023-09-27T10:21:12.417073279Z"
    },
    "collapsed": false,
    "jupyter": {
     "outputs_hidden": false
    }
   },
   "outputs": [],
   "source": [
    "full_df.loc[:, 'pred_lgb_content'] = None\n",
    "full_df.loc[:, 'pred_lgb_wording'] = None"
   ]
  },
  {
   "cell_type": "code",
   "execution_count": 96,
   "id": "d98c29f6a5605436",
   "metadata": {
    "ExecuteTime": {
     "end_time": "2023-09-27T10:21:58.350140303Z",
     "start_time": "2023-09-27T10:21:58.144816567Z"
    },
    "collapsed": false,
    "jupyter": {
     "outputs_hidden": false
    }
   },
   "outputs": [
    {
     "name": "stdout",
     "output_type": "stream",
     "text": [
      "Training until validation scores don't improve for 200 rounds\n",
      "Early stopping, best iteration is:\n",
      "[348]\tvalid's rmse: 0.381035\n",
      "Training until validation scores don't improve for 200 rounds\n",
      "Early stopping, best iteration is:\n",
      "[3186]\tvalid's rmse: 0.441636\n",
      "Training until validation scores don't improve for 200 rounds\n",
      "Early stopping, best iteration is:\n",
      "[1550]\tvalid's rmse: 0.45561\n",
      "Training until validation scores don't improve for 200 rounds\n",
      "Early stopping, best iteration is:\n",
      "[166]\tvalid's rmse: 0.398746\n"
     ]
    }
   ],
   "source": [
    "for prompt_id, data in full_df.groupby('prompt_id'):\n",
    "    x_train = full_df[full_df['prompt_id']!=prompt_id].copy()\n",
    "    dtrain = lgb.Dataset(data=x_train[UPDATED_FEATURE_LIST_CONTENT], label=x_train['content'])\n",
    "    dtest = lgb.Dataset(data=data[UPDATED_FEATURE_LIST_CONTENT], label=data['content'])\n",
    "        \n",
    "    model = lgb.train(best_params_content,\n",
    "                      num_boost_round=10000,\n",
    "                      valid_names=['valid'],\n",
    "                      train_set=dtrain,\n",
    "                      valid_sets=dtest,\n",
    "                      callbacks=[\n",
    "                              lgb.early_stopping(stopping_rounds=200, verbose=True)])\n",
    "        \n",
    "    predictions = model.predict(data[UPDATED_FEATURE_LIST_CONTENT])\n",
    "    full_df.loc[full_df['prompt_id'] == prompt_id, 'pred_lgb_content'] = predictions\n",
    "    model.save_model(f'../lgb_models/ensemble_via_lgb3/lgb_model_content_{prompt_id}.bst')"
   ]
  },
  {
   "cell_type": "code",
   "execution_count": 98,
   "id": "399f80530710a30e",
   "metadata": {
    "ExecuteTime": {
     "end_time": "2023-09-27T10:22:09.480458741Z",
     "start_time": "2023-09-27T10:22:09.286450875Z"
    },
    "collapsed": false,
    "jupyter": {
     "outputs_hidden": false
    }
   },
   "outputs": [
    {
     "name": "stdout",
     "output_type": "stream",
     "text": [
      "Training until validation scores don't improve for 200 rounds\n",
      "Early stopping, best iteration is:\n",
      "[86]\tvalid's rmse: 0.509359\n",
      "Training until validation scores don't improve for 200 rounds\n",
      "Early stopping, best iteration is:\n",
      "[229]\tvalid's rmse: 0.646193\n",
      "Training until validation scores don't improve for 200 rounds\n",
      "Early stopping, best iteration is:\n",
      "[388]\tvalid's rmse: 0.606827\n",
      "Training until validation scores don't improve for 200 rounds\n",
      "Early stopping, best iteration is:\n",
      "[78]\tvalid's rmse: 0.49196\n"
     ]
    }
   ],
   "source": [
    "for prompt_id, data in full_df.groupby('prompt_id'):\n",
    "    x_train = full_df[full_df['prompt_id']!=prompt_id].copy()\n",
    "    dtrain = lgb.Dataset(data=x_train[UPDATED_FEATURE_LIST_WORDING], label=x_train['wording'])\n",
    "    dtest = lgb.Dataset(data=data[UPDATED_FEATURE_LIST_WORDING], label=data['wording'])\n",
    "        \n",
    "    model = lgb.train(best_params_wording,\n",
    "                      num_boost_round=10000,\n",
    "                      valid_names=['valid'],\n",
    "                      train_set=dtrain,\n",
    "                      valid_sets=dtest,\n",
    "                      callbacks=[\n",
    "                              lgb.early_stopping(stopping_rounds=200, verbose=True)])\n",
    "        \n",
    "    predictions = model.predict(data[UPDATED_FEATURE_LIST_WORDING])\n",
    "    full_df.loc[full_df['prompt_id'] == prompt_id, 'pred_lgb_wording'] = predictions\n",
    "    model.save_model(f'../lgb_models/ensemble_via_lgb3/lgb_model_wording_{prompt_id}.bst')"
   ]
  },
  {
   "cell_type": "code",
   "execution_count": 99,
   "id": "9b785e16-4ab3-4bab-a1fe-6740acc444de",
   "metadata": {},
   "outputs": [],
   "source": [
    "import sys"
   ]
  },
  {
   "cell_type": "code",
   "execution_count": 100,
   "id": "9a97e6e1c19ff2fb",
   "metadata": {
    "ExecuteTime": {
     "end_time": "2023-09-27T10:22:13.466811713Z",
     "start_time": "2023-09-27T10:22:13.439177028Z"
    },
    "collapsed": false,
    "jupyter": {
     "outputs_hidden": false
    }
   },
   "outputs": [],
   "source": [
    "sys.path.append('..')"
   ]
  },
  {
   "cell_type": "code",
   "execution_count": 101,
   "id": "594d7c8a98a4b600",
   "metadata": {
    "ExecuteTime": {
     "end_time": "2023-09-27T10:22:15.022273990Z",
     "start_time": "2023-09-27T10:22:14.979491082Z"
    },
    "collapsed": false,
    "jupyter": {
     "outputs_hidden": false
    }
   },
   "outputs": [],
   "source": [
    "from cles.metrics.metric import mcrmse"
   ]
  },
  {
   "cell_type": "code",
   "execution_count": 102,
   "id": "ffa417f40efc8e2f",
   "metadata": {
    "ExecuteTime": {
     "end_time": "2023-09-27T10:22:15.719553396Z",
     "start_time": "2023-09-27T10:22:15.708831635Z"
    },
    "collapsed": false,
    "jupyter": {
     "outputs_hidden": false
    }
   },
   "outputs": [
    {
     "data": {
      "text/plain": [
       "(0.48866246684822034, [0.4154742412317312, 0.5618506924647094])"
      ]
     },
     "execution_count": 102,
     "metadata": {},
     "output_type": "execute_result"
    }
   ],
   "source": [
    "mcrmse(full_df[['content', 'wording']].values, full_df[['pred_lgb_content', 'pred_lgb_wording']].values)"
   ]
  },
  {
   "cell_type": "code",
   "execution_count": null,
   "id": "eabb90563f9a16e7",
   "metadata": {
    "collapsed": false,
    "jupyter": {
     "outputs_hidden": false
    }
   },
   "outputs": [],
   "source": []
  }
 ],
 "metadata": {
  "kernelspec": {
   "display_name": "Python 3 (ipykernel)",
   "language": "python",
   "name": "python3"
  },
  "language_info": {
   "codemirror_mode": {
    "name": "ipython",
    "version": 3
   },
   "file_extension": ".py",
   "mimetype": "text/x-python",
   "name": "python",
   "nbconvert_exporter": "python",
   "pygments_lexer": "ipython3",
   "version": "3.10.12"
  }
 },
 "nbformat": 4,
 "nbformat_minor": 5
}
