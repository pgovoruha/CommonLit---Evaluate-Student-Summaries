{
 "cells": [
  {
   "cell_type": "code",
   "execution_count": 11,
   "metadata": {
    "collapsed": true,
    "ExecuteTime": {
     "end_time": "2023-09-19T14:25:09.563235003Z",
     "start_time": "2023-09-19T14:25:09.521794492Z"
    }
   },
   "outputs": [
    {
     "name": "stderr",
     "output_type": "stream",
     "text": [
      "[nltk_data] Downloading package punkt to /home/pavlo/nltk_data...\n",
      "[nltk_data]   Package punkt is already up-to-date!\n"
     ]
    }
   ],
   "source": [
    "import pandas as pd\n",
    "import numpy as np\n",
    "import nltk\n",
    "nltk.download('punkt')\n",
    "from spellchecker import SpellChecker"
   ]
  },
  {
   "cell_type": "code",
   "execution_count": 19,
   "outputs": [],
   "source": [
    "def spelling_correction(text):\n",
    "    spell = SpellChecker()\n",
    "    \n",
    "    # Find unknown words\n",
    "    words = nltk.word_tokenize(text)\n",
    "    misspelled = spell.unknown(words)\n",
    "    \n",
    "    # Correct spelling\n",
    "    for word in misspelled:\n",
    "        # Get the one 'most likely' answer\n",
    "        correct_spelling = spell.correction(word)\n",
    "        \n",
    "        # Get a list of 'likely' options\n",
    "        # candidates = spell.candidates(word)\n",
    "        \n",
    "        # Replace the misspelled word with the corrected word in the text\n",
    "        if correct_spelling is not None:\n",
    "            text = text.replace(word, correct_spelling)\n",
    "    return text"
   ],
   "metadata": {
    "collapsed": false,
    "ExecuteTime": {
     "end_time": "2023-09-19T14:28:06.667128555Z",
     "start_time": "2023-09-19T14:28:06.625758410Z"
    }
   }
  },
  {
   "cell_type": "code",
   "execution_count": 17,
   "outputs": [],
   "source": [
    "prompts = pd.read_csv('../data_raw/prompts_train.csv')\n",
    "summaries = pd.read_csv('../data_raw/summaries_train.csv')"
   ],
   "metadata": {
    "collapsed": false,
    "ExecuteTime": {
     "end_time": "2023-09-19T14:27:04.499449640Z",
     "start_time": "2023-09-19T14:27:04.454188111Z"
    }
   }
  },
  {
   "cell_type": "code",
   "execution_count": 20,
   "outputs": [],
   "source": [
    "prompts.loc[:, 'corrected_prompts'] = prompts['prompt_text'].map(lambda x: spelling_correction(x))"
   ],
   "metadata": {
    "collapsed": false,
    "ExecuteTime": {
     "end_time": "2023-09-19T14:28:15.100585148Z",
     "start_time": "2023-09-19T14:28:09.274383454Z"
    }
   }
  },
  {
   "cell_type": "code",
   "execution_count": 21,
   "outputs": [],
   "source": [
    "summaries.loc[:, 'corrected_summary'] = summaries['text'].map(lambda x: spelling_correction(x))"
   ],
   "metadata": {
    "collapsed": false,
    "ExecuteTime": {
     "end_time": "2023-09-19T14:46:58.502978926Z",
     "start_time": "2023-09-19T14:28:41.900334471Z"
    }
   }
  },
  {
   "cell_type": "code",
   "execution_count": 22,
   "outputs": [],
   "source": [
    "full_df = prompts.merge(summaries, on='prompt_id')"
   ],
   "metadata": {
    "collapsed": false,
    "ExecuteTime": {
     "end_time": "2023-09-19T14:52:20.701772136Z",
     "start_time": "2023-09-19T14:52:20.654476862Z"
    }
   }
  },
  {
   "cell_type": "code",
   "execution_count": 23,
   "outputs": [
    {
     "data": {
      "text/plain": "7165"
     },
     "execution_count": 23,
     "metadata": {},
     "output_type": "execute_result"
    }
   ],
   "source": [
    "full_df.shape[0]"
   ],
   "metadata": {
    "collapsed": false,
    "ExecuteTime": {
     "end_time": "2023-09-19T14:52:22.075059905Z",
     "start_time": "2023-09-19T14:52:22.072665574Z"
    }
   }
  },
  {
   "cell_type": "code",
   "execution_count": 24,
   "outputs": [
    {
     "data": {
      "text/plain": "7165"
     },
     "execution_count": 24,
     "metadata": {},
     "output_type": "execute_result"
    }
   ],
   "source": [
    "summaries.shape[0]"
   ],
   "metadata": {
    "collapsed": false,
    "ExecuteTime": {
     "end_time": "2023-09-19T14:52:22.747534677Z",
     "start_time": "2023-09-19T14:52:22.744811179Z"
    }
   }
  },
  {
   "cell_type": "code",
   "execution_count": 25,
   "outputs": [],
   "source": [
    "import os"
   ],
   "metadata": {
    "collapsed": false,
    "ExecuteTime": {
     "end_time": "2023-09-19T14:52:25.011101684Z",
     "start_time": "2023-09-19T14:52:25.008583240Z"
    }
   }
  },
  {
   "cell_type": "code",
   "execution_count": 26,
   "outputs": [],
   "source": [
    "for title, data in full_df.groupby('prompt_id'):\n",
    "\n",
    "    os.makedirs(f'../data/{title}', exist_ok=True)\n",
    "    train = full_df[full_df['prompt_id']!=title].copy()\n",
    "    train.to_csv(f'../data/{title}/train.csv', index=False)\n",
    "    data.to_csv(f'../data/{title}/test.csv', index=False)\n"
   ],
   "metadata": {
    "collapsed": false,
    "ExecuteTime": {
     "end_time": "2023-09-19T14:52:28.183168688Z",
     "start_time": "2023-09-19T14:52:25.738685210Z"
    }
   }
  },
  {
   "cell_type": "code",
   "execution_count": 27,
   "outputs": [
    {
     "data": {
      "text/plain": "        student_id prompt_id  \\\n0     000e8c3c7ddb    814d6b   \n1     0020ae56ffbf    ebad26   \n2     004e978e639e    3b9047   \n3     005ab0199905    3b9047   \n4     0070c9e7af47    814d6b   \n...            ...       ...   \n7160  ff7c7e70df07    ebad26   \n7161  ffc34d056498    3b9047   \n7162  ffd1576d2e1b    3b9047   \n7163  ffe4a98093b2    39c16e   \n7164  fffbccfd8a08    ebad26   \n\n                                                   text   content   wording  \\\n0     The third wave was an experimentto see how peo...  0.205683  0.380538   \n1     They would rub it up with soda to make the sme... -0.548304  0.506755   \n2     In Egypt, there were many occupations and soci...  3.128928  4.231226   \n3     The highest class was Pharaohs these people we... -0.210614 -0.471415   \n4     The Third Wave developed  rapidly because the ...  3.272894  3.219757   \n...                                                 ...       ...       ...   \n7160  They used all sorts of chemical concoctions to...  0.205683  0.380538   \n7161  The lowest classes are slaves and farmers slav... -0.308448  0.048171   \n7162             they sorta made people start workin... -1.408180 -0.493603   \n7163  An ideal tragety has three elements that make ... -0.393310  0.627128   \n7164  The meat would smell sour but the would \"rub i...  1.771596  0.547742   \n\n                                      corrected_summary  \n0     The third wave was an experiment see how peopl...  \n1     They would rub it up with soda to make the sme...  \n2     In Egypt, there were many occupations and soci...  \n3     The highest class was Pharaohs these people we...  \n4     The Third Wave developed  rapidly because the ...  \n...                                                 ...  \n7160  They used all sorts of chemical concoctions to...  \n7161  The lowest classes are slaves and farmers slav...  \n7162             they sorta made people start workin...  \n7163  An ideal tragedy has three elements that make ...  \n7164  The meat would imell iour but the would \"rub i...  \n\n[7165 rows x 6 columns]",
      "text/html": "<div>\n<style scoped>\n    .dataframe tbody tr th:only-of-type {\n        vertical-align: middle;\n    }\n\n    .dataframe tbody tr th {\n        vertical-align: top;\n    }\n\n    .dataframe thead th {\n        text-align: right;\n    }\n</style>\n<table border=\"1\" class=\"dataframe\">\n  <thead>\n    <tr style=\"text-align: right;\">\n      <th></th>\n      <th>student_id</th>\n      <th>prompt_id</th>\n      <th>text</th>\n      <th>content</th>\n      <th>wording</th>\n      <th>corrected_summary</th>\n    </tr>\n  </thead>\n  <tbody>\n    <tr>\n      <th>0</th>\n      <td>000e8c3c7ddb</td>\n      <td>814d6b</td>\n      <td>The third wave was an experimentto see how peo...</td>\n      <td>0.205683</td>\n      <td>0.380538</td>\n      <td>The third wave was an experiment see how peopl...</td>\n    </tr>\n    <tr>\n      <th>1</th>\n      <td>0020ae56ffbf</td>\n      <td>ebad26</td>\n      <td>They would rub it up with soda to make the sme...</td>\n      <td>-0.548304</td>\n      <td>0.506755</td>\n      <td>They would rub it up with soda to make the sme...</td>\n    </tr>\n    <tr>\n      <th>2</th>\n      <td>004e978e639e</td>\n      <td>3b9047</td>\n      <td>In Egypt, there were many occupations and soci...</td>\n      <td>3.128928</td>\n      <td>4.231226</td>\n      <td>In Egypt, there were many occupations and soci...</td>\n    </tr>\n    <tr>\n      <th>3</th>\n      <td>005ab0199905</td>\n      <td>3b9047</td>\n      <td>The highest class was Pharaohs these people we...</td>\n      <td>-0.210614</td>\n      <td>-0.471415</td>\n      <td>The highest class was Pharaohs these people we...</td>\n    </tr>\n    <tr>\n      <th>4</th>\n      <td>0070c9e7af47</td>\n      <td>814d6b</td>\n      <td>The Third Wave developed  rapidly because the ...</td>\n      <td>3.272894</td>\n      <td>3.219757</td>\n      <td>The Third Wave developed  rapidly because the ...</td>\n    </tr>\n    <tr>\n      <th>...</th>\n      <td>...</td>\n      <td>...</td>\n      <td>...</td>\n      <td>...</td>\n      <td>...</td>\n      <td>...</td>\n    </tr>\n    <tr>\n      <th>7160</th>\n      <td>ff7c7e70df07</td>\n      <td>ebad26</td>\n      <td>They used all sorts of chemical concoctions to...</td>\n      <td>0.205683</td>\n      <td>0.380538</td>\n      <td>They used all sorts of chemical concoctions to...</td>\n    </tr>\n    <tr>\n      <th>7161</th>\n      <td>ffc34d056498</td>\n      <td>3b9047</td>\n      <td>The lowest classes are slaves and farmers slav...</td>\n      <td>-0.308448</td>\n      <td>0.048171</td>\n      <td>The lowest classes are slaves and farmers slav...</td>\n    </tr>\n    <tr>\n      <th>7162</th>\n      <td>ffd1576d2e1b</td>\n      <td>3b9047</td>\n      <td>they sorta made people start workin...</td>\n      <td>-1.408180</td>\n      <td>-0.493603</td>\n      <td>they sorta made people start workin...</td>\n    </tr>\n    <tr>\n      <th>7163</th>\n      <td>ffe4a98093b2</td>\n      <td>39c16e</td>\n      <td>An ideal tragety has three elements that make ...</td>\n      <td>-0.393310</td>\n      <td>0.627128</td>\n      <td>An ideal tragedy has three elements that make ...</td>\n    </tr>\n    <tr>\n      <th>7164</th>\n      <td>fffbccfd8a08</td>\n      <td>ebad26</td>\n      <td>The meat would smell sour but the would \"rub i...</td>\n      <td>1.771596</td>\n      <td>0.547742</td>\n      <td>The meat would imell iour but the would \"rub i...</td>\n    </tr>\n  </tbody>\n</table>\n<p>7165 rows × 6 columns</p>\n</div>"
     },
     "execution_count": 27,
     "metadata": {},
     "output_type": "execute_result"
    }
   ],
   "source": [
    "summaries"
   ],
   "metadata": {
    "collapsed": false,
    "ExecuteTime": {
     "end_time": "2023-09-19T14:52:35.790301891Z",
     "start_time": "2023-09-19T14:52:35.709983152Z"
    }
   }
  },
  {
   "cell_type": "code",
   "execution_count": null,
   "outputs": [],
   "source": [],
   "metadata": {
    "collapsed": false
   }
  }
 ],
 "metadata": {
  "kernelspec": {
   "display_name": "Python 3",
   "language": "python",
   "name": "python3"
  },
  "language_info": {
   "codemirror_mode": {
    "name": "ipython",
    "version": 2
   },
   "file_extension": ".py",
   "mimetype": "text/x-python",
   "name": "python",
   "nbconvert_exporter": "python",
   "pygments_lexer": "ipython2",
   "version": "2.7.6"
  }
 },
 "nbformat": 4,
 "nbformat_minor": 0
}
