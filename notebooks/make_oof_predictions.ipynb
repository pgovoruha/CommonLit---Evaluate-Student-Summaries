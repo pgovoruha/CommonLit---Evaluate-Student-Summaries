{
 "cells": [
  {
   "cell_type": "code",
   "execution_count": 1,
   "outputs": [],
   "source": [
    "import sys\n",
    "sys.path.append('..')"
   ],
   "metadata": {
    "collapsed": false,
    "ExecuteTime": {
     "end_time": "2023-10-04T20:12:12.256847479Z",
     "start_time": "2023-10-04T20:12:12.252732913Z"
    }
   }
  },
  {
   "cell_type": "code",
   "execution_count": 2,
   "outputs": [],
   "source": [
    "from omegaconf import DictConfig, OmegaConf\n",
    "import pandas as pd\n",
    "import os\n",
    "import numpy as np\n",
    "import random\n",
    "from transformers import AutoTokenizer, AutoModel\n",
    "import torch\n",
    "import yaml\n",
    "import multiprocessing\n",
    "import torch.nn as nn"
   ],
   "metadata": {
    "collapsed": false,
    "ExecuteTime": {
     "end_time": "2023-10-04T20:12:14.886702376Z",
     "start_time": "2023-10-04T20:12:13.369882429Z"
    }
   }
  },
  {
   "cell_type": "code",
   "execution_count": 3,
   "outputs": [],
   "source": [
    "from cles.predict import get_model\n",
    "from cles.predict import get_dataloader\n",
    "from cles.predict import predict"
   ],
   "metadata": {
    "collapsed": false,
    "ExecuteTime": {
     "end_time": "2023-10-04T20:12:14.895831219Z",
     "start_time": "2023-10-04T20:12:14.888282075Z"
    }
   }
  },
  {
   "cell_type": "code",
   "execution_count": 4,
   "outputs": [],
   "source": [
    "def seed_everything(seed=42):\n",
    "    random.seed(seed)\n",
    "    os.environ['PYTHONHASHSEED'] = str(seed)\n",
    "    np.random.seed(seed)\n",
    "    torch.manual_seed(seed)\n",
    "    torch.cuda.manual_seed(seed)\n",
    "    torch.backends.cudnn.deterministic = True"
   ],
   "metadata": {
    "collapsed": false,
    "ExecuteTime": {
     "end_time": "2023-10-04T20:12:16.610686018Z",
     "start_time": "2023-10-04T20:12:16.607225139Z"
    }
   }
  },
  {
   "cell_type": "code",
   "execution_count": 5,
   "outputs": [],
   "source": [
    "seed_everything(42)"
   ],
   "metadata": {
    "collapsed": false,
    "ExecuteTime": {
     "end_time": "2023-10-04T20:12:17.883481909Z",
     "start_time": "2023-10-04T20:12:17.877989515Z"
    }
   }
  },
  {
   "cell_type": "code",
   "execution_count": 6,
   "outputs": [],
   "source": [
    "base_path = '..'\n",
    "base_data_path = '../data_raw'\n",
    "config_backbone_path = f'{base_path}/models_config/db_l_gru_pool/microsoft/deberta-v3-large/config.json'\n",
    "tokenizer_path = f'{base_path}/models_config/db_l_gru_pool/microsoft/deberta-v3-large'\n",
    "train_config = f'{base_path}/config/db_large_gru_pooling.yaml'\n",
    "model_weights_directory = f'{base_path}/model_weights/db_l_gru_pool'\n",
    "summaries_path = f'{base_data_path}/summaries_train.csv'\n",
    "prompts_path = f'{base_data_path}/prompts_train.csv'"
   ],
   "metadata": {
    "collapsed": false,
    "ExecuteTime": {
     "end_time": "2023-10-04T20:13:28.978078512Z",
     "start_time": "2023-10-04T20:13:28.965995048Z"
    }
   }
  },
  {
   "cell_type": "code",
   "execution_count": 7,
   "outputs": [],
   "source": [
    "with open(train_config, \"r\") as stream:\n",
    "    try:\n",
    "        train_config = yaml.safe_load(stream)\n",
    "    except yaml.YAMLError as exc:\n",
    "        print(exc)"
   ],
   "metadata": {
    "collapsed": false,
    "ExecuteTime": {
     "end_time": "2023-10-04T20:13:29.919771838Z",
     "start_time": "2023-10-04T20:13:29.915559033Z"
    }
   }
  },
  {
   "cell_type": "code",
   "execution_count": 8,
   "outputs": [],
   "source": [
    "train_config = DictConfig(train_config)\n",
    "train_config['backbone']['config_path'] = config_backbone_path"
   ],
   "metadata": {
    "collapsed": false,
    "ExecuteTime": {
     "end_time": "2023-10-04T20:13:38.845736923Z",
     "start_time": "2023-10-04T20:13:38.843435250Z"
    }
   }
  },
  {
   "cell_type": "code",
   "execution_count": 9,
   "outputs": [],
   "source": [
    "num_workers = multiprocessing.cpu_count()\n",
    "tokenizer = AutoTokenizer.from_pretrained(tokenizer_path)\n",
    "device = torch.device('cuda') if torch.cuda.is_available() else torch.device('cpu')"
   ],
   "metadata": {
    "collapsed": false,
    "ExecuteTime": {
     "end_time": "2023-10-04T20:13:39.477721480Z",
     "start_time": "2023-10-04T20:13:39.303227079Z"
    }
   }
  },
  {
   "cell_type": "code",
   "execution_count": 10,
   "outputs": [
    {
     "data": {
      "text/plain": "['microsoft_deberta_v3_large_3b9047.pth',\n 'microsoft_deberta_v3_large_39c16e.pth',\n 'microsoft_deberta_v3_large_814d6b.pth',\n 'microsoft_deberta_v3_large_ebad26.pth']"
     },
     "execution_count": 10,
     "metadata": {},
     "output_type": "execute_result"
    }
   ],
   "source": [
    "os.listdir(model_weights_directory)"
   ],
   "metadata": {
    "collapsed": false,
    "ExecuteTime": {
     "end_time": "2023-10-04T20:13:40.027003576Z",
     "start_time": "2023-10-04T20:13:40.019583526Z"
    }
   }
  },
  {
   "cell_type": "code",
   "execution_count": 11,
   "outputs": [],
   "source": [
    "oof_preds = []"
   ],
   "metadata": {
    "collapsed": false,
    "ExecuteTime": {
     "end_time": "2023-10-04T20:13:41.166577963Z",
     "start_time": "2023-10-04T20:13:41.161254039Z"
    }
   }
  },
  {
   "cell_type": "code",
   "execution_count": 12,
   "outputs": [
    {
     "name": "stderr",
     "output_type": "stream",
     "text": [
      "100%|██████████| 503/503 [00:30<00:00, 16.36it/s]\n",
      "100%|██████████| 515/515 [00:23<00:00, 21.99it/s]\n",
      "100%|██████████| 276/276 [00:13<00:00, 20.04it/s]\n",
      "100%|██████████| 499/499 [00:27<00:00, 18.11it/s]\n"
     ]
    }
   ],
   "source": [
    "for fold in [\"3b9047\", \"39c16e\", \"814d6b\", \"ebad26\"]:\n",
    "    df = pd.read_csv(f'../data/{fold}/test.csv')\n",
    "    model_w_file = f'{model_weights_directory}/microsoft_deberta_v3_large_{fold}.pth'\n",
    "\n",
    "    dataloader = get_dataloader(dataframe=df, num_workers=num_workers, tokenizer=tokenizer, cfg=train_config)\n",
    "    model = get_model(train_config)\n",
    "    model.load_state_dict(torch.load(model_w_file))\n",
    "    model.to(device);\n",
    "    model.eval();\n",
    "    predictions = predict(model, dataloader, device)\n",
    "    del model;\n",
    "    del dataloader;\n",
    "    torch.cuda.empty_cache()\n",
    "    df.loc[:, ['pred_content', 'pred_wording']] = predictions\n",
    "    df = df[['prompt_id', 'student_id', 'content', 'wording', 'pred_content', 'pred_wording']].copy()\n",
    "    oof_preds.append(df)"
   ],
   "metadata": {
    "collapsed": false,
    "ExecuteTime": {
     "end_time": "2023-10-04T20:15:39.535814346Z",
     "start_time": "2023-10-04T20:13:42.049404011Z"
    }
   }
  },
  {
   "cell_type": "code",
   "execution_count": 13,
   "outputs": [],
   "source": [
    "from cles.metrics.metric import mcrmse"
   ],
   "metadata": {
    "collapsed": false,
    "ExecuteTime": {
     "end_time": "2023-10-04T20:17:49.469168772Z",
     "start_time": "2023-10-04T20:17:49.091455573Z"
    }
   }
  },
  {
   "cell_type": "code",
   "execution_count": 14,
   "outputs": [],
   "source": [
    "oof_df = pd.concat(oof_preds, axis=0, ignore_index=True)"
   ],
   "metadata": {
    "collapsed": false,
    "ExecuteTime": {
     "end_time": "2023-10-04T20:17:49.610869461Z",
     "start_time": "2023-10-04T20:17:49.547638685Z"
    }
   }
  },
  {
   "cell_type": "code",
   "execution_count": 15,
   "outputs": [
    {
     "data": {
      "text/plain": "     prompt_id    student_id   content   wording  pred_content  pred_wording\n0       3b9047  004e978e639e  3.128928  4.231226      2.457785      2.490094\n1       3b9047  005ab0199905 -0.210614 -0.471415     -1.089983     -1.100757\n2       3b9047  0072b649a88c  0.205683  0.380538     -0.049564      0.565939\n3       3b9047  0089072f5fea -1.547163 -1.461245     -1.453158     -1.505344\n4       3b9047  008efab52a76 -0.066112 -0.715083      0.108171     -0.263506\n...        ...           ...       ...       ...           ...           ...\n7160    ebad26  ff37545b2805  1.520355 -0.292990      1.510806     -0.091507\n7161    ebad26  ff4ed38ef099 -1.204574 -1.169784     -0.847583     -1.228878\n7162    ebad26  ff53b94f7ce0  0.328739 -1.053294      0.596798     -0.291178\n7163    ebad26  ff7c7e70df07  0.205683  0.380538     -0.193301     -0.214642\n7164    ebad26  fffbccfd8a08  1.771596  0.547742      0.738575      0.478495\n\n[7165 rows x 6 columns]",
      "text/html": "<div>\n<style scoped>\n    .dataframe tbody tr th:only-of-type {\n        vertical-align: middle;\n    }\n\n    .dataframe tbody tr th {\n        vertical-align: top;\n    }\n\n    .dataframe thead th {\n        text-align: right;\n    }\n</style>\n<table border=\"1\" class=\"dataframe\">\n  <thead>\n    <tr style=\"text-align: right;\">\n      <th></th>\n      <th>prompt_id</th>\n      <th>student_id</th>\n      <th>content</th>\n      <th>wording</th>\n      <th>pred_content</th>\n      <th>pred_wording</th>\n    </tr>\n  </thead>\n  <tbody>\n    <tr>\n      <th>0</th>\n      <td>3b9047</td>\n      <td>004e978e639e</td>\n      <td>3.128928</td>\n      <td>4.231226</td>\n      <td>2.457785</td>\n      <td>2.490094</td>\n    </tr>\n    <tr>\n      <th>1</th>\n      <td>3b9047</td>\n      <td>005ab0199905</td>\n      <td>-0.210614</td>\n      <td>-0.471415</td>\n      <td>-1.089983</td>\n      <td>-1.100757</td>\n    </tr>\n    <tr>\n      <th>2</th>\n      <td>3b9047</td>\n      <td>0072b649a88c</td>\n      <td>0.205683</td>\n      <td>0.380538</td>\n      <td>-0.049564</td>\n      <td>0.565939</td>\n    </tr>\n    <tr>\n      <th>3</th>\n      <td>3b9047</td>\n      <td>0089072f5fea</td>\n      <td>-1.547163</td>\n      <td>-1.461245</td>\n      <td>-1.453158</td>\n      <td>-1.505344</td>\n    </tr>\n    <tr>\n      <th>4</th>\n      <td>3b9047</td>\n      <td>008efab52a76</td>\n      <td>-0.066112</td>\n      <td>-0.715083</td>\n      <td>0.108171</td>\n      <td>-0.263506</td>\n    </tr>\n    <tr>\n      <th>...</th>\n      <td>...</td>\n      <td>...</td>\n      <td>...</td>\n      <td>...</td>\n      <td>...</td>\n      <td>...</td>\n    </tr>\n    <tr>\n      <th>7160</th>\n      <td>ebad26</td>\n      <td>ff37545b2805</td>\n      <td>1.520355</td>\n      <td>-0.292990</td>\n      <td>1.510806</td>\n      <td>-0.091507</td>\n    </tr>\n    <tr>\n      <th>7161</th>\n      <td>ebad26</td>\n      <td>ff4ed38ef099</td>\n      <td>-1.204574</td>\n      <td>-1.169784</td>\n      <td>-0.847583</td>\n      <td>-1.228878</td>\n    </tr>\n    <tr>\n      <th>7162</th>\n      <td>ebad26</td>\n      <td>ff53b94f7ce0</td>\n      <td>0.328739</td>\n      <td>-1.053294</td>\n      <td>0.596798</td>\n      <td>-0.291178</td>\n    </tr>\n    <tr>\n      <th>7163</th>\n      <td>ebad26</td>\n      <td>ff7c7e70df07</td>\n      <td>0.205683</td>\n      <td>0.380538</td>\n      <td>-0.193301</td>\n      <td>-0.214642</td>\n    </tr>\n    <tr>\n      <th>7164</th>\n      <td>ebad26</td>\n      <td>fffbccfd8a08</td>\n      <td>1.771596</td>\n      <td>0.547742</td>\n      <td>0.738575</td>\n      <td>0.478495</td>\n    </tr>\n  </tbody>\n</table>\n<p>7165 rows × 6 columns</p>\n</div>"
     },
     "execution_count": 15,
     "metadata": {},
     "output_type": "execute_result"
    }
   ],
   "source": [
    "oof_df"
   ],
   "metadata": {
    "collapsed": false,
    "ExecuteTime": {
     "end_time": "2023-10-04T20:17:50.194954351Z",
     "start_time": "2023-10-04T20:17:50.183640234Z"
    }
   }
  },
  {
   "cell_type": "code",
   "execution_count": 16,
   "outputs": [
    {
     "data": {
      "text/plain": "(0.5392426184601709, [0.45534196020864137, 0.6231432767117003])"
     },
     "execution_count": 16,
     "metadata": {},
     "output_type": "execute_result"
    }
   ],
   "source": [
    "mcrmse(oof_df[['content', 'wording']].values, oof_df[['pred_content', 'pred_wording']].values)"
   ],
   "metadata": {
    "collapsed": false,
    "ExecuteTime": {
     "end_time": "2023-10-04T20:17:52.466617796Z",
     "start_time": "2023-10-04T20:17:52.464508606Z"
    }
   }
  },
  {
   "cell_type": "code",
   "execution_count": 17,
   "outputs": [],
   "source": [
    "oof_df.to_csv('../oof_predictions/microsoft_deberta_v3_large_gru_pool.csv', index=False)"
   ],
   "metadata": {
    "collapsed": false,
    "ExecuteTime": {
     "end_time": "2023-10-04T20:18:00.153053637Z",
     "start_time": "2023-10-04T20:18:00.118402625Z"
    }
   }
  },
  {
   "cell_type": "code",
   "execution_count": null,
   "outputs": [],
   "source": [],
   "metadata": {
    "collapsed": false
   }
  }
 ],
 "metadata": {
  "kernelspec": {
   "display_name": "Python 3",
   "language": "python",
   "name": "python3"
  },
  "language_info": {
   "codemirror_mode": {
    "name": "ipython",
    "version": 2
   },
   "file_extension": ".py",
   "mimetype": "text/x-python",
   "name": "python",
   "nbconvert_exporter": "python",
   "pygments_lexer": "ipython2",
   "version": "2.7.6"
  }
 },
 "nbformat": 4,
 "nbformat_minor": 0
}
