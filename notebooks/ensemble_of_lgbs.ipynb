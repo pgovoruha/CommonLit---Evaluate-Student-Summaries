{
 "cells": [
  {
   "cell_type": "code",
   "execution_count": 64,
   "id": "initial_id",
   "metadata": {
    "ExecuteTime": {
     "end_time": "2023-09-26T10:11:16.012043817Z",
     "start_time": "2023-09-26T10:11:15.297393977Z"
    }
   },
   "outputs": [],
   "source": [
    "import pandas as pd\n",
    "import numpy as np\n",
    "import random\n",
    "from sklearn.metrics import mean_squared_error\n",
    "import optuna"
   ]
  },
  {
   "cell_type": "code",
   "execution_count": 65,
   "id": "94d3ecad0e9b44e1",
   "metadata": {
    "ExecuteTime": {
     "end_time": "2023-09-26T10:11:16.015644863Z",
     "start_time": "2023-09-26T10:11:16.013853702Z"
    },
    "collapsed": false,
    "jupyter": {
     "outputs_hidden": false
    }
   },
   "outputs": [],
   "source": [
    "random.seed(42)\n",
    "np.random.seed(42)\n",
    "optuna.logging.set_verbosity(optuna.logging.WARNING)"
   ]
  },
  {
   "cell_type": "code",
   "execution_count": 66,
   "id": "3249ad41b2852afe",
   "metadata": {
    "ExecuteTime": {
     "end_time": "2023-09-26T10:11:16.852938346Z",
     "start_time": "2023-09-26T10:11:16.824697359Z"
    },
    "collapsed": false,
    "jupyter": {
     "outputs_hidden": false
    }
   },
   "outputs": [],
   "source": [
    "summaries = pd.read_csv('../data_raw/summaries_train.csv')"
   ]
  },
  {
   "cell_type": "code",
   "execution_count": 67,
   "id": "3807862e7ca91f8d",
   "metadata": {
    "ExecuteTime": {
     "end_time": "2023-09-26T10:11:17.478662527Z",
     "start_time": "2023-09-26T10:11:17.474928408Z"
    },
    "collapsed": false,
    "jupyter": {
     "outputs_hidden": false
    }
   },
   "outputs": [],
   "source": [
    "summaries = summaries.drop('text', axis=1)"
   ]
  },
  {
   "cell_type": "code",
   "execution_count": 68,
   "id": "d32e1f17e421535c",
   "metadata": {
    "ExecuteTime": {
     "end_time": "2023-09-26T10:11:18.751073311Z",
     "start_time": "2023-09-26T10:11:18.680308259Z"
    },
    "collapsed": false,
    "jupyter": {
     "outputs_hidden": false
    }
   },
   "outputs": [],
   "source": [
    "oof_attn_pool = pd.read_csv('../oof_predictions/lgb_attn_pool.csv')\n",
    "oof_conc_pool = pd.read_csv('../oof_predictions/lgb_conc_pool.csv')\n",
    "oof_gem_pool = pd.read_csv('../oof_predictions/lgb_gem_pool.csv')\n",
    "oof_lstm_pool = pd.read_csv('../oof_predictions/lgb_lstm_pool.csv')\n",
    "oof_mean_pool = pd.read_csv('../oof_predictions/lgb_mean_pool.csv')\n",
    "oof_meanmax_pool = pd.read_csv('../oof_predictions/lgb_meanmax_pool.csv')\n",
    "oof_gru_pool = pd.read_csv('../oof_predictions/lgb_gru_pool.csv')"
   ]
  },
  {
   "cell_type": "code",
   "execution_count": 69,
   "id": "3810d2f4-d511-4088-9c42-44412348d3ca",
   "metadata": {},
   "outputs": [
    {
     "data": {
      "text/plain": [
       "Index(['student_id', 'prompt_id', 'text', 'content', 'wording',\n",
       "       'summary_length', 'splling_err_num', 'prompt_question', 'prompt_title',\n",
       "       'prompt_text', 'prompt_length', 'length_ratio', 'word_overlap_count',\n",
       "       'word_overlap_ratio', 'bigram_overlap_count', 'bigram_overlap_ratio',\n",
       "       'trigram_overlap_count', 'trigram_overlap_ratio', 'quotes_count',\n",
       "       'number_of_unique_words', 'flesch_kinsaid', 'flesch', 'gunning_fog',\n",
       "       'coleman_liau', 'dale_chall', 'ari', 'linsear_write', 'smog', 'spache',\n",
       "       'pred_content', 'pred_wording', 'pred_lgb_content', 'pred_lgb_wording'],\n",
       "      dtype='object')"
      ]
     },
     "execution_count": 69,
     "metadata": {},
     "output_type": "execute_result"
    }
   ],
   "source": [
    "oof_attn_pool.columns"
   ]
  },
  {
   "cell_type": "code",
   "execution_count": 70,
   "id": "92cf48a47d17ab15",
   "metadata": {
    "ExecuteTime": {
     "end_time": "2023-09-26T10:11:19.645389016Z",
     "start_time": "2023-09-26T10:11:19.632790200Z"
    },
    "collapsed": false,
    "jupyter": {
     "outputs_hidden": false
    }
   },
   "outputs": [],
   "source": [
    "oof_attn_pool = oof_attn_pool.rename({\n",
    "    'pred_lgb_content': 'content_lgb_attn_pool', \n",
    "    'pred_lgb_wording': 'wording_lgb_attn_pool'\n",
    "}, axis=1)[['student_id', 'prompt_id', 'content_lgb_attn_pool', 'wording_lgb_attn_pool']].copy()\n",
    "oof_conc_pool = oof_conc_pool.rename({\n",
    "    'pred_lgb_content': 'content_lgb_conc_pool',\n",
    "    'pred_lgb_wording': 'wording_lgb_conc_pool'\n",
    "}, axis=1)[['student_id', 'prompt_id', 'content_lgb_conc_pool', 'wording_lgb_conc_pool']].copy()\n",
    "\n",
    "oof_gem_pool = oof_gem_pool.rename({\n",
    "    'pred_lgb_content': 'content_lgb_gem_pool',\n",
    "    'pred_wording': 'wording_lgb_gem_pool'\n",
    "}, axis=1)[['student_id', 'prompt_id', 'content_lgb_gem_pool', 'wording_lgb_gem_pool']].copy()\n",
    "\n",
    "oof_lstm_pool = oof_lstm_pool.rename({\n",
    "    'pred_lgb_content': 'content_lgb_lstm_pool',\n",
    "    'pred_lgb_wording': 'wording_lgb_lstm_pool'\n",
    "}, axis=1)[['student_id', 'prompt_id', 'content_lgb_lstm_pool', 'wording_lgb_lstm_pool']].copy()\n",
    "\n",
    "oof_mean_pool = oof_mean_pool.rename({\n",
    "    'pred_lgb_content': 'content_lgb_mean_pool',\n",
    "    'pred_lgb_wording': 'wording_lgb_mean_pool'\n",
    "}, axis=1)[['student_id', 'prompt_id', 'content_lgb_mean_pool', 'wording_lgb_mean_pool']].copy()\n",
    "\n",
    "oof_meanmax_pool = oof_meanmax_pool.rename({\n",
    "    'pred_lgb_content': 'content_lgb_meanmax_pool',\n",
    "    'pred_lgb_wording': 'wording_lgb_meanmax_pool'\n",
    "}, axis=1)[['student_id', 'prompt_id', 'content_lgb_meanmax_pool', 'wording_lgb_meanmax_pool']].copy()\n",
    "oof_gru_pool = oof_gru_pool.rename({\n",
    "    'pred_lgb_content': 'content_lgb_gru_pool',\n",
    "    'pred_lgb_wording': 'wording_lgb_gru_pool'\n",
    "}, axis=1)[['student_id', 'prompt_id', 'content_lgb_gru_pool', 'wording_lgb_gru_pool']].copy()"
   ]
  },
  {
   "cell_type": "code",
   "execution_count": 71,
   "id": "998ed32d9e52968f",
   "metadata": {
    "ExecuteTime": {
     "end_time": "2023-09-26T10:11:20.668264759Z",
     "start_time": "2023-09-26T10:11:20.648560319Z"
    },
    "collapsed": false,
    "jupyter": {
     "outputs_hidden": false
    }
   },
   "outputs": [],
   "source": [
    "summaries = summaries.merge(oof_attn_pool, on=['student_id', 'prompt_id']).merge(\n",
    "    oof_conc_pool, on=['student_id', 'prompt_id']\n",
    ").merge(oof_gem_pool, on=['student_id', 'prompt_id']).merge(\n",
    "    oof_lstm_pool, on=['student_id', 'prompt_id']\n",
    ").merge(oof_mean_pool, on=['student_id', 'prompt_id']).merge(\n",
    "    oof_meanmax_pool, on=['student_id', 'prompt_id']).merge(\n",
    "    oof_gru_pool, on=['student_id', 'prompt_id'])"
   ]
  },
  {
   "cell_type": "code",
   "execution_count": 72,
   "id": "6088caf64fdc18d8",
   "metadata": {
    "ExecuteTime": {
     "end_time": "2023-09-26T10:11:21.366077722Z",
     "start_time": "2023-09-26T10:11:21.351365665Z"
    },
    "collapsed": false,
    "jupyter": {
     "outputs_hidden": false
    }
   },
   "outputs": [
    {
     "data": {
      "text/html": [
       "<div>\n",
       "<style scoped>\n",
       "    .dataframe tbody tr th:only-of-type {\n",
       "        vertical-align: middle;\n",
       "    }\n",
       "\n",
       "    .dataframe tbody tr th {\n",
       "        vertical-align: top;\n",
       "    }\n",
       "\n",
       "    .dataframe thead th {\n",
       "        text-align: right;\n",
       "    }\n",
       "</style>\n",
       "<table border=\"1\" class=\"dataframe\">\n",
       "  <thead>\n",
       "    <tr style=\"text-align: right;\">\n",
       "      <th></th>\n",
       "      <th>student_id</th>\n",
       "      <th>prompt_id</th>\n",
       "      <th>content</th>\n",
       "      <th>wording</th>\n",
       "      <th>content_lgb_attn_pool</th>\n",
       "      <th>wording_lgb_attn_pool</th>\n",
       "      <th>content_lgb_conc_pool</th>\n",
       "      <th>wording_lgb_conc_pool</th>\n",
       "      <th>content_lgb_gem_pool</th>\n",
       "      <th>wording_lgb_gem_pool</th>\n",
       "      <th>content_lgb_lstm_pool</th>\n",
       "      <th>wording_lgb_lstm_pool</th>\n",
       "      <th>content_lgb_mean_pool</th>\n",
       "      <th>wording_lgb_mean_pool</th>\n",
       "      <th>content_lgb_meanmax_pool</th>\n",
       "      <th>wording_lgb_meanmax_pool</th>\n",
       "      <th>content_lgb_gru_pool</th>\n",
       "      <th>wording_lgb_gru_pool</th>\n",
       "    </tr>\n",
       "  </thead>\n",
       "  <tbody>\n",
       "    <tr>\n",
       "      <th>0</th>\n",
       "      <td>000e8c3c7ddb</td>\n",
       "      <td>814d6b</td>\n",
       "      <td>0.205683</td>\n",
       "      <td>0.380538</td>\n",
       "      <td>-0.097916</td>\n",
       "      <td>0.734486</td>\n",
       "      <td>-0.022150</td>\n",
       "      <td>0.889013</td>\n",
       "      <td>-0.028655</td>\n",
       "      <td>0.612966</td>\n",
       "      <td>-0.552838</td>\n",
       "      <td>0.882381</td>\n",
       "      <td>-0.072543</td>\n",
       "      <td>0.508240</td>\n",
       "      <td>-0.104374</td>\n",
       "      <td>0.499156</td>\n",
       "      <td>0.084610</td>\n",
       "      <td>0.847228</td>\n",
       "    </tr>\n",
       "    <tr>\n",
       "      <th>1</th>\n",
       "      <td>0020ae56ffbf</td>\n",
       "      <td>ebad26</td>\n",
       "      <td>-0.548304</td>\n",
       "      <td>0.506755</td>\n",
       "      <td>-0.672357</td>\n",
       "      <td>-0.467967</td>\n",
       "      <td>-0.741401</td>\n",
       "      <td>-0.284348</td>\n",
       "      <td>-0.828224</td>\n",
       "      <td>-0.671266</td>\n",
       "      <td>-0.630435</td>\n",
       "      <td>-0.463764</td>\n",
       "      <td>-0.835795</td>\n",
       "      <td>-1.033750</td>\n",
       "      <td>-0.603110</td>\n",
       "      <td>-0.403993</td>\n",
       "      <td>-0.489004</td>\n",
       "      <td>-0.241624</td>\n",
       "    </tr>\n",
       "    <tr>\n",
       "      <th>2</th>\n",
       "      <td>004e978e639e</td>\n",
       "      <td>3b9047</td>\n",
       "      <td>3.128928</td>\n",
       "      <td>4.231226</td>\n",
       "      <td>2.712829</td>\n",
       "      <td>3.050318</td>\n",
       "      <td>2.709813</td>\n",
       "      <td>1.870987</td>\n",
       "      <td>2.654117</td>\n",
       "      <td>2.420776</td>\n",
       "      <td>3.000174</td>\n",
       "      <td>2.709715</td>\n",
       "      <td>2.371794</td>\n",
       "      <td>2.464215</td>\n",
       "      <td>2.905802</td>\n",
       "      <td>2.613999</td>\n",
       "      <td>2.706548</td>\n",
       "      <td>2.796522</td>\n",
       "    </tr>\n",
       "    <tr>\n",
       "      <th>3</th>\n",
       "      <td>005ab0199905</td>\n",
       "      <td>3b9047</td>\n",
       "      <td>-0.210614</td>\n",
       "      <td>-0.471415</td>\n",
       "      <td>-0.959623</td>\n",
       "      <td>-0.909390</td>\n",
       "      <td>-1.087302</td>\n",
       "      <td>-0.614463</td>\n",
       "      <td>-1.125971</td>\n",
       "      <td>-0.743153</td>\n",
       "      <td>-1.013784</td>\n",
       "      <td>-0.852298</td>\n",
       "      <td>-1.073987</td>\n",
       "      <td>-0.686038</td>\n",
       "      <td>-1.190612</td>\n",
       "      <td>-0.778618</td>\n",
       "      <td>-1.140000</td>\n",
       "      <td>-1.072360</td>\n",
       "    </tr>\n",
       "    <tr>\n",
       "      <th>4</th>\n",
       "      <td>0070c9e7af47</td>\n",
       "      <td>814d6b</td>\n",
       "      <td>3.272894</td>\n",
       "      <td>3.219757</td>\n",
       "      <td>2.468769</td>\n",
       "      <td>2.300629</td>\n",
       "      <td>2.499820</td>\n",
       "      <td>2.718277</td>\n",
       "      <td>2.406918</td>\n",
       "      <td>1.780585</td>\n",
       "      <td>2.221119</td>\n",
       "      <td>2.661260</td>\n",
       "      <td>2.281526</td>\n",
       "      <td>2.441904</td>\n",
       "      <td>2.269914</td>\n",
       "      <td>2.358340</td>\n",
       "      <td>2.909671</td>\n",
       "      <td>2.382062</td>\n",
       "    </tr>\n",
       "    <tr>\n",
       "      <th>...</th>\n",
       "      <td>...</td>\n",
       "      <td>...</td>\n",
       "      <td>...</td>\n",
       "      <td>...</td>\n",
       "      <td>...</td>\n",
       "      <td>...</td>\n",
       "      <td>...</td>\n",
       "      <td>...</td>\n",
       "      <td>...</td>\n",
       "      <td>...</td>\n",
       "      <td>...</td>\n",
       "      <td>...</td>\n",
       "      <td>...</td>\n",
       "      <td>...</td>\n",
       "      <td>...</td>\n",
       "      <td>...</td>\n",
       "      <td>...</td>\n",
       "      <td>...</td>\n",
       "    </tr>\n",
       "    <tr>\n",
       "      <th>7160</th>\n",
       "      <td>ff7c7e70df07</td>\n",
       "      <td>ebad26</td>\n",
       "      <td>0.205683</td>\n",
       "      <td>0.380538</td>\n",
       "      <td>-0.395920</td>\n",
       "      <td>-0.481600</td>\n",
       "      <td>-0.134670</td>\n",
       "      <td>-0.120638</td>\n",
       "      <td>-0.156256</td>\n",
       "      <td>-0.119196</td>\n",
       "      <td>-0.106166</td>\n",
       "      <td>-0.350295</td>\n",
       "      <td>-0.162052</td>\n",
       "      <td>-0.546835</td>\n",
       "      <td>-0.044175</td>\n",
       "      <td>-0.058205</td>\n",
       "      <td>-0.159989</td>\n",
       "      <td>-0.442492</td>\n",
       "    </tr>\n",
       "    <tr>\n",
       "      <th>7161</th>\n",
       "      <td>ffc34d056498</td>\n",
       "      <td>3b9047</td>\n",
       "      <td>-0.308448</td>\n",
       "      <td>0.048171</td>\n",
       "      <td>-0.236828</td>\n",
       "      <td>-0.199676</td>\n",
       "      <td>-0.149250</td>\n",
       "      <td>0.096430</td>\n",
       "      <td>-0.473825</td>\n",
       "      <td>-0.274833</td>\n",
       "      <td>-0.165051</td>\n",
       "      <td>-0.146018</td>\n",
       "      <td>-0.437824</td>\n",
       "      <td>-0.314785</td>\n",
       "      <td>-0.521858</td>\n",
       "      <td>0.163570</td>\n",
       "      <td>-0.275630</td>\n",
       "      <td>-0.311119</td>\n",
       "    </tr>\n",
       "    <tr>\n",
       "      <th>7162</th>\n",
       "      <td>ffd1576d2e1b</td>\n",
       "      <td>3b9047</td>\n",
       "      <td>-1.408180</td>\n",
       "      <td>-0.493603</td>\n",
       "      <td>-0.649789</td>\n",
       "      <td>-0.187626</td>\n",
       "      <td>-0.877513</td>\n",
       "      <td>-0.333544</td>\n",
       "      <td>-0.857657</td>\n",
       "      <td>-0.696844</td>\n",
       "      <td>-0.386624</td>\n",
       "      <td>-0.075493</td>\n",
       "      <td>-0.977169</td>\n",
       "      <td>-0.214414</td>\n",
       "      <td>-0.965457</td>\n",
       "      <td>-0.513426</td>\n",
       "      <td>-0.877630</td>\n",
       "      <td>-0.434478</td>\n",
       "    </tr>\n",
       "    <tr>\n",
       "      <th>7163</th>\n",
       "      <td>ffe4a98093b2</td>\n",
       "      <td>39c16e</td>\n",
       "      <td>-0.393310</td>\n",
       "      <td>0.627128</td>\n",
       "      <td>-0.037286</td>\n",
       "      <td>0.360702</td>\n",
       "      <td>-0.043220</td>\n",
       "      <td>0.623580</td>\n",
       "      <td>-0.178211</td>\n",
       "      <td>0.357063</td>\n",
       "      <td>-0.095070</td>\n",
       "      <td>0.387134</td>\n",
       "      <td>-0.181079</td>\n",
       "      <td>0.479457</td>\n",
       "      <td>-0.076141</td>\n",
       "      <td>0.432329</td>\n",
       "      <td>-0.140196</td>\n",
       "      <td>0.326886</td>\n",
       "    </tr>\n",
       "    <tr>\n",
       "      <th>7164</th>\n",
       "      <td>fffbccfd8a08</td>\n",
       "      <td>ebad26</td>\n",
       "      <td>1.771596</td>\n",
       "      <td>0.547742</td>\n",
       "      <td>0.794075</td>\n",
       "      <td>0.529197</td>\n",
       "      <td>0.474883</td>\n",
       "      <td>0.620954</td>\n",
       "      <td>0.763405</td>\n",
       "      <td>0.431245</td>\n",
       "      <td>0.741667</td>\n",
       "      <td>0.626543</td>\n",
       "      <td>0.702136</td>\n",
       "      <td>0.243462</td>\n",
       "      <td>0.735406</td>\n",
       "      <td>0.803657</td>\n",
       "      <td>0.843214</td>\n",
       "      <td>0.501092</td>\n",
       "    </tr>\n",
       "  </tbody>\n",
       "</table>\n",
       "<p>7165 rows × 18 columns</p>\n",
       "</div>"
      ],
      "text/plain": [
       "        student_id prompt_id   content   wording  content_lgb_attn_pool  \\\n",
       "0     000e8c3c7ddb    814d6b  0.205683  0.380538              -0.097916   \n",
       "1     0020ae56ffbf    ebad26 -0.548304  0.506755              -0.672357   \n",
       "2     004e978e639e    3b9047  3.128928  4.231226               2.712829   \n",
       "3     005ab0199905    3b9047 -0.210614 -0.471415              -0.959623   \n",
       "4     0070c9e7af47    814d6b  3.272894  3.219757               2.468769   \n",
       "...            ...       ...       ...       ...                    ...   \n",
       "7160  ff7c7e70df07    ebad26  0.205683  0.380538              -0.395920   \n",
       "7161  ffc34d056498    3b9047 -0.308448  0.048171              -0.236828   \n",
       "7162  ffd1576d2e1b    3b9047 -1.408180 -0.493603              -0.649789   \n",
       "7163  ffe4a98093b2    39c16e -0.393310  0.627128              -0.037286   \n",
       "7164  fffbccfd8a08    ebad26  1.771596  0.547742               0.794075   \n",
       "\n",
       "      wording_lgb_attn_pool  content_lgb_conc_pool  wording_lgb_conc_pool  \\\n",
       "0                  0.734486              -0.022150               0.889013   \n",
       "1                 -0.467967              -0.741401              -0.284348   \n",
       "2                  3.050318               2.709813               1.870987   \n",
       "3                 -0.909390              -1.087302              -0.614463   \n",
       "4                  2.300629               2.499820               2.718277   \n",
       "...                     ...                    ...                    ...   \n",
       "7160              -0.481600              -0.134670              -0.120638   \n",
       "7161              -0.199676              -0.149250               0.096430   \n",
       "7162              -0.187626              -0.877513              -0.333544   \n",
       "7163               0.360702              -0.043220               0.623580   \n",
       "7164               0.529197               0.474883               0.620954   \n",
       "\n",
       "      content_lgb_gem_pool  wording_lgb_gem_pool  content_lgb_lstm_pool  \\\n",
       "0                -0.028655              0.612966              -0.552838   \n",
       "1                -0.828224             -0.671266              -0.630435   \n",
       "2                 2.654117              2.420776               3.000174   \n",
       "3                -1.125971             -0.743153              -1.013784   \n",
       "4                 2.406918              1.780585               2.221119   \n",
       "...                    ...                   ...                    ...   \n",
       "7160             -0.156256             -0.119196              -0.106166   \n",
       "7161             -0.473825             -0.274833              -0.165051   \n",
       "7162             -0.857657             -0.696844              -0.386624   \n",
       "7163             -0.178211              0.357063              -0.095070   \n",
       "7164              0.763405              0.431245               0.741667   \n",
       "\n",
       "      wording_lgb_lstm_pool  content_lgb_mean_pool  wording_lgb_mean_pool  \\\n",
       "0                  0.882381              -0.072543               0.508240   \n",
       "1                 -0.463764              -0.835795              -1.033750   \n",
       "2                  2.709715               2.371794               2.464215   \n",
       "3                 -0.852298              -1.073987              -0.686038   \n",
       "4                  2.661260               2.281526               2.441904   \n",
       "...                     ...                    ...                    ...   \n",
       "7160              -0.350295              -0.162052              -0.546835   \n",
       "7161              -0.146018              -0.437824              -0.314785   \n",
       "7162              -0.075493              -0.977169              -0.214414   \n",
       "7163               0.387134              -0.181079               0.479457   \n",
       "7164               0.626543               0.702136               0.243462   \n",
       "\n",
       "      content_lgb_meanmax_pool  wording_lgb_meanmax_pool  \\\n",
       "0                    -0.104374                  0.499156   \n",
       "1                    -0.603110                 -0.403993   \n",
       "2                     2.905802                  2.613999   \n",
       "3                    -1.190612                 -0.778618   \n",
       "4                     2.269914                  2.358340   \n",
       "...                        ...                       ...   \n",
       "7160                 -0.044175                 -0.058205   \n",
       "7161                 -0.521858                  0.163570   \n",
       "7162                 -0.965457                 -0.513426   \n",
       "7163                 -0.076141                  0.432329   \n",
       "7164                  0.735406                  0.803657   \n",
       "\n",
       "      content_lgb_gru_pool  wording_lgb_gru_pool  \n",
       "0                 0.084610              0.847228  \n",
       "1                -0.489004             -0.241624  \n",
       "2                 2.706548              2.796522  \n",
       "3                -1.140000             -1.072360  \n",
       "4                 2.909671              2.382062  \n",
       "...                    ...                   ...  \n",
       "7160             -0.159989             -0.442492  \n",
       "7161             -0.275630             -0.311119  \n",
       "7162             -0.877630             -0.434478  \n",
       "7163             -0.140196              0.326886  \n",
       "7164              0.843214              0.501092  \n",
       "\n",
       "[7165 rows x 18 columns]"
      ]
     },
     "execution_count": 72,
     "metadata": {},
     "output_type": "execute_result"
    }
   ],
   "source": [
    "summaries"
   ]
  },
  {
   "cell_type": "code",
   "execution_count": 73,
   "id": "8d9807fba4fe5caa",
   "metadata": {
    "ExecuteTime": {
     "end_time": "2023-09-26T10:11:24.991269539Z",
     "start_time": "2023-09-26T10:11:24.989383845Z"
    },
    "collapsed": false,
    "jupyter": {
     "outputs_hidden": false
    }
   },
   "outputs": [],
   "source": [
    "## content weights"
   ]
  },
  {
   "cell_type": "code",
   "execution_count": 74,
   "id": "4410d827-a8ed-4403-a257-0f18d6754bd5",
   "metadata": {},
   "outputs": [
    {
     "data": {
      "text/plain": [
       "(7165,)"
      ]
     },
     "execution_count": 74,
     "metadata": {},
     "output_type": "execute_result"
    }
   ],
   "source": [
    "summaries['content'].shape"
   ]
  },
  {
   "cell_type": "code",
   "execution_count": 75,
   "id": "ebb7ec5057031ef8",
   "metadata": {
    "ExecuteTime": {
     "end_time": "2023-09-26T10:11:28.978705715Z",
     "start_time": "2023-09-26T10:11:28.975133033Z"
    },
    "collapsed": false,
    "jupyter": {
     "outputs_hidden": false
    }
   },
   "outputs": [],
   "source": [
    "def content_objective(trial):\n",
    "    \n",
    "    # w_attn_pool = trial.suggest_float('w_attn_pool', 0, 1)\n",
    "    w_conc_pool = trial.suggest_float('w_conc_pool', 0, 1)\n",
    "    w_gem_pool = trial.suggest_float('w_gem_pool', 0, 1)\n",
    "    w_mean_pool = trial.suggest_float('w_mean_pool', 0, 1)\n",
    "    # w_lstm_pool = trial.suggest_float('w_lstm_pool', 0, 1)\n",
    "    # w_meanmax_pool = trial.suggest_float('w_meanmax_pool', 0, 1)\n",
    "    w_gru_pool = trial.suggest_float('w_gru_pool', 0, 1)\n",
    "    \n",
    "    total_w = w_conc_pool + w_gem_pool + w_mean_pool + w_gru_pool\n",
    "    # w_attn_pool = w_attn_pool / total_w\n",
    "    w_conc_pool = w_conc_pool / total_w\n",
    "    w_gem_pool = w_gem_pool / total_w\n",
    "    w_mean_pool = w_mean_pool / total_w\n",
    "    # w_lstm_pool = w_lstm_pool / total_w\n",
    "    # w_meanmax_pool = w_meanmax_pool / total_w\n",
    "    w_gru_pool = w_gru_pool / total_w\n",
    "    \n",
    "    prediction = summaries['content_lgb_conc_pool'] * w_conc_pool + \\\n",
    "        summaries['content_lgb_gem_pool'] * w_gem_pool + \\\n",
    "        summaries['content_lgb_mean_pool'] * w_mean_pool + \\\n",
    "        summaries['content_lgb_gru_pool'] * w_gru_pool\n",
    "    \n",
    "    score = mean_squared_error(summaries['content'], prediction, squared=False)\n",
    "    \n",
    "    return score\n",
    "    "
   ]
  },
  {
   "cell_type": "code",
   "execution_count": 76,
   "id": "2f3c10d9766abcc1",
   "metadata": {
    "ExecuteTime": {
     "end_time": "2023-09-26T10:11:30.303607953Z",
     "start_time": "2023-09-26T10:11:30.299727792Z"
    },
    "collapsed": false,
    "jupyter": {
     "outputs_hidden": false
    }
   },
   "outputs": [],
   "source": [
    "study = optuna.create_study(direction='minimize', sampler=optuna.samplers.TPESampler(seed=42))"
   ]
  },
  {
   "cell_type": "code",
   "execution_count": 77,
   "id": "c51e18197ccd7fab",
   "metadata": {
    "ExecuteTime": {
     "end_time": "2023-09-26T10:11:57.820417830Z",
     "start_time": "2023-09-26T10:11:32.094395075Z"
    },
    "collapsed": false,
    "jupyter": {
     "outputs_hidden": false
    }
   },
   "outputs": [],
   "source": [
    "study.optimize(content_objective, n_trials=1000)"
   ]
  },
  {
   "cell_type": "code",
   "execution_count": 78,
   "id": "7e449de61952655",
   "metadata": {
    "ExecuteTime": {
     "end_time": "2023-09-26T10:13:22.270913288Z",
     "start_time": "2023-09-26T10:13:22.208258123Z"
    },
    "collapsed": false,
    "jupyter": {
     "outputs_hidden": false
    }
   },
   "outputs": [],
   "source": [
    "best_weights_content = study.best_params"
   ]
  },
  {
   "cell_type": "code",
   "execution_count": 79,
   "id": "90522a6ac031b64",
   "metadata": {
    "ExecuteTime": {
     "end_time": "2023-09-26T10:13:22.736490591Z",
     "start_time": "2023-09-26T10:13:22.729487900Z"
    },
    "collapsed": false,
    "jupyter": {
     "outputs_hidden": false
    }
   },
   "outputs": [
    {
     "data": {
      "text/plain": [
       "{'w_conc_pool': 0.9603201720438452,\n",
       " 'w_gem_pool': 0.5919958288998725,\n",
       " 'w_mean_pool': 0.4641641838592819,\n",
       " 'w_gru_pool': 0.8644170361944371}"
      ]
     },
     "execution_count": 79,
     "metadata": {},
     "output_type": "execute_result"
    }
   ],
   "source": [
    "best_weights_content"
   ]
  },
  {
   "cell_type": "code",
   "execution_count": 80,
   "id": "0dafb040-2a3c-49d3-8e7e-21a95add0a64",
   "metadata": {},
   "outputs": [],
   "source": [
    "total_content = 0\n",
    "for k, v in best_weights_content.items():\n",
    "    total_content = total_content + v\n",
    "\n",
    "for k, v in best_weights_content.items():\n",
    "    best_weights_content[k] = v / total_content"
   ]
  },
  {
   "cell_type": "code",
   "execution_count": 81,
   "id": "3e693c85-6dca-497d-bc33-73206845bc75",
   "metadata": {},
   "outputs": [
    {
     "data": {
      "text/plain": [
       "{'w_conc_pool': 0.33334065687749836,\n",
       " 'w_gem_pool': 0.20549008988765974,\n",
       " 'w_mean_pool': 0.16111792551161438,\n",
       " 'w_gru_pool': 0.30005132772322746}"
      ]
     },
     "execution_count": 81,
     "metadata": {},
     "output_type": "execute_result"
    }
   ],
   "source": [
    "best_weights_content"
   ]
  },
  {
   "cell_type": "code",
   "execution_count": 98,
   "id": "6c51ad66-f17e-4203-9cbf-64ce9ad387d5",
   "metadata": {},
   "outputs": [
    {
     "data": {
      "text/plain": [
       "1.0"
      ]
     },
     "execution_count": 98,
     "metadata": {},
     "output_type": "execute_result"
    }
   ],
   "source": [
    "0.33334065687749836 + 0.20549008988765974 + 0.16111792551161438 + 0.30005132772322746"
   ]
  },
  {
   "cell_type": "code",
   "execution_count": 82,
   "id": "266b2f9e-31df-415e-9293-4d0e93222513",
   "metadata": {},
   "outputs": [],
   "source": [
    "for k, v in best_weights_content.items():\n",
    "    if v < 0.1:\n",
    "        print(k)"
   ]
  },
  {
   "cell_type": "code",
   "execution_count": 83,
   "id": "d056a10385cb9a99",
   "metadata": {
    "ExecuteTime": {
     "end_time": "2023-09-26T10:13:30.124286214Z",
     "start_time": "2023-09-26T10:13:30.117379674Z"
    },
    "collapsed": false,
    "jupyter": {
     "outputs_hidden": false
    }
   },
   "outputs": [],
   "source": [
    "best_score_content = study.best_value"
   ]
  },
  {
   "cell_type": "code",
   "execution_count": 84,
   "id": "dcb08f6067054fe3",
   "metadata": {
    "ExecuteTime": {
     "end_time": "2023-09-26T10:13:30.716116519Z",
     "start_time": "2023-09-26T10:13:30.709292249Z"
    },
    "collapsed": false,
    "jupyter": {
     "outputs_hidden": false
    }
   },
   "outputs": [
    {
     "data": {
      "text/plain": [
       "0.4060916575998445"
      ]
     },
     "execution_count": 84,
     "metadata": {},
     "output_type": "execute_result"
    }
   ],
   "source": [
    "best_score_content"
   ]
  },
  {
   "cell_type": "code",
   "execution_count": 85,
   "id": "fb5f5fbb72ad60e2",
   "metadata": {
    "ExecuteTime": {
     "end_time": "2023-09-26T10:13:34.880945703Z",
     "start_time": "2023-09-26T10:13:34.872447584Z"
    },
    "collapsed": false,
    "jupyter": {
     "outputs_hidden": false
    }
   },
   "outputs": [],
   "source": [
    "def wording_objective(trial):\n",
    "    \n",
    "    w_attn_pool = trial.suggest_float('w_attn_pool', 0, 1)\n",
    "    w_conc_pool = trial.suggest_float('w_conc_pool', 0, 1)\n",
    "    # w_gem_pool = trial.suggest_float('w_gem_pool', 0, 1)\n",
    "    # w_mean_pool = trial.suggest_float('w_mean_pool', 0, 1)\n",
    "    w_lstm_pool = trial.suggest_float('w_lstm_pool', 0, 1)\n",
    "    w_meanmax_pool = trial.suggest_float('w_meanmax_pool', 0, 1)\n",
    "    w_gru_pool = trial.suggest_float('w_gru_pool', 0, 1)\n",
    "    \n",
    "    total_w = w_attn_pool + w_conc_pool + w_lstm_pool + w_meanmax_pool + w_gru_pool\n",
    "    w_attn_pool = w_attn_pool / total_w\n",
    "    w_conc_pool = w_conc_pool / total_w\n",
    "    # w_gem_pool = w_gem_pool / total_w\n",
    "    # w_mean_pool = w_mean_pool / total_w\n",
    "    w_lstm_pool = w_lstm_pool / total_w\n",
    "    w_meanmax_pool = w_meanmax_pool / total_w\n",
    "    w_gru_pool = w_gru_pool / total_w\n",
    "    \n",
    "    prediction = summaries['wording_lgb_attn_pool'] * w_attn_pool + \\\n",
    "        summaries['wording_lgb_conc_pool'] * w_conc_pool + \\\n",
    "        summaries['wording_lgb_lstm_pool'] * w_lstm_pool + \\\n",
    "        summaries['wording_lgb_meanmax_pool'] * w_meanmax_pool + \\\n",
    "        summaries['wording_lgb_gru_pool'] * w_gru_pool\n",
    "    \n",
    "    score = mean_squared_error(summaries['wording'], prediction, squared=False)\n",
    "    \n",
    "    return score"
   ]
  },
  {
   "cell_type": "code",
   "execution_count": 86,
   "id": "f40b56420fe66d57",
   "metadata": {
    "ExecuteTime": {
     "end_time": "2023-09-26T10:13:35.547030119Z",
     "start_time": "2023-09-26T10:13:35.540718810Z"
    },
    "collapsed": false,
    "jupyter": {
     "outputs_hidden": false
    }
   },
   "outputs": [],
   "source": [
    "study = optuna.create_study(direction='minimize', sampler=optuna.samplers.TPESampler(seed=42))"
   ]
  },
  {
   "cell_type": "code",
   "execution_count": 87,
   "id": "40b59757ed871f1c",
   "metadata": {
    "ExecuteTime": {
     "end_time": "2023-09-26T10:14:02.669546109Z",
     "start_time": "2023-09-26T10:13:36.186946149Z"
    },
    "collapsed": false,
    "jupyter": {
     "outputs_hidden": false
    }
   },
   "outputs": [],
   "source": [
    "study.optimize(wording_objective, n_trials=1000)"
   ]
  },
  {
   "cell_type": "code",
   "execution_count": 88,
   "id": "ed1863d6a1c3ac30",
   "metadata": {
    "ExecuteTime": {
     "end_time": "2023-09-26T10:14:08.343173303Z",
     "start_time": "2023-09-26T10:14:08.340511496Z"
    },
    "collapsed": false,
    "jupyter": {
     "outputs_hidden": false
    }
   },
   "outputs": [],
   "source": [
    "best_score_wording = study.best_value"
   ]
  },
  {
   "cell_type": "code",
   "execution_count": 89,
   "id": "b7be6095b85a82a0",
   "metadata": {
    "ExecuteTime": {
     "end_time": "2023-09-26T10:14:08.963140313Z",
     "start_time": "2023-09-26T10:14:08.959900240Z"
    },
    "collapsed": false,
    "jupyter": {
     "outputs_hidden": false
    }
   },
   "outputs": [
    {
     "data": {
      "text/plain": [
       "0.5387497063577728"
      ]
     },
     "execution_count": 89,
     "metadata": {},
     "output_type": "execute_result"
    }
   ],
   "source": [
    "best_score_wording"
   ]
  },
  {
   "cell_type": "code",
   "execution_count": 90,
   "id": "de76db6980209ed8",
   "metadata": {
    "ExecuteTime": {
     "end_time": "2023-09-26T10:14:12.943158333Z",
     "start_time": "2023-09-26T10:14:12.930076266Z"
    },
    "collapsed": false,
    "jupyter": {
     "outputs_hidden": false
    }
   },
   "outputs": [],
   "source": [
    "best_weights_wording = study.best_params"
   ]
  },
  {
   "cell_type": "code",
   "execution_count": 91,
   "id": "f8de90b7-a6ba-4c0c-904e-114ba0c990f1",
   "metadata": {},
   "outputs": [
    {
     "data": {
      "text/plain": [
       "{'w_attn_pool': 0.31129222641505017,\n",
       " 'w_conc_pool': 0.3662526920395453,\n",
       " 'w_lstm_pool': 0.9961902515272636,\n",
       " 'w_meanmax_pool': 0.47704018347154775,\n",
       " 'w_gru_pool': 0.5635708898898862}"
      ]
     },
     "execution_count": 91,
     "metadata": {},
     "output_type": "execute_result"
    }
   ],
   "source": [
    "best_weights_wording"
   ]
  },
  {
   "cell_type": "code",
   "execution_count": 92,
   "id": "e6d5c241-171a-4573-9e62-b6fb878c65b2",
   "metadata": {},
   "outputs": [],
   "source": [
    "total_wording = 0\n",
    "for k, v in best_weights_wording.items():\n",
    "    total_wording = total_wording + v\n",
    "\n",
    "for k, v in best_weights_wording.items():\n",
    "    best_weights_wording[k] = v / total_wording"
   ]
  },
  {
   "cell_type": "code",
   "execution_count": 93,
   "id": "2e18cd198f124db6",
   "metadata": {
    "ExecuteTime": {
     "end_time": "2023-09-26T10:14:14.411704015Z",
     "start_time": "2023-09-26T10:14:14.393107917Z"
    },
    "collapsed": false,
    "jupyter": {
     "outputs_hidden": false
    }
   },
   "outputs": [
    {
     "data": {
      "text/plain": [
       "{'w_attn_pool': 0.11468405225695444,\n",
       " 'w_conc_pool': 0.13493219331828038,\n",
       " 'w_lstm_pool': 0.3670092767163868,\n",
       " 'w_meanmax_pool': 0.17574772733635174,\n",
       " 'w_gru_pool': 0.20762675037202666}"
      ]
     },
     "execution_count": 93,
     "metadata": {},
     "output_type": "execute_result"
    }
   ],
   "source": [
    "best_weights_wording"
   ]
  },
  {
   "cell_type": "code",
   "execution_count": 94,
   "id": "c5b4a63e-32d2-4992-aed6-45402f1cfdbd",
   "metadata": {},
   "outputs": [],
   "source": [
    "for k, v in best_weights_wording.items():\n",
    "    if v < 0.1:\n",
    "        print(k)"
   ]
  },
  {
   "cell_type": "code",
   "execution_count": 95,
   "id": "db5ccb3651cf4416",
   "metadata": {
    "ExecuteTime": {
     "end_time": "2023-09-26T10:14:16.205437161Z",
     "start_time": "2023-09-26T10:14:16.161440240Z"
    },
    "collapsed": false,
    "jupyter": {
     "outputs_hidden": false
    }
   },
   "outputs": [],
   "source": [
    "## MCRMSE"
   ]
  },
  {
   "cell_type": "code",
   "execution_count": 96,
   "id": "eed570793886d504",
   "metadata": {
    "ExecuteTime": {
     "end_time": "2023-09-26T10:14:16.714475404Z",
     "start_time": "2023-09-26T10:14:16.712158363Z"
    },
    "collapsed": false,
    "jupyter": {
     "outputs_hidden": false
    }
   },
   "outputs": [
    {
     "data": {
      "text/plain": [
       "0.4724206819788086"
      ]
     },
     "execution_count": 96,
     "metadata": {},
     "output_type": "execute_result"
    }
   ],
   "source": [
    "(best_score_content + best_score_wording)/2"
   ]
  },
  {
   "cell_type": "code",
   "execution_count": 97,
   "id": "e585ae1d984b5d97",
   "metadata": {
    "ExecuteTime": {
     "end_time": "2023-09-26T10:14:40.819730638Z",
     "start_time": "2023-09-26T10:14:40.802603548Z"
    },
    "collapsed": false,
    "jupyter": {
     "outputs_hidden": false
    }
   },
   "outputs": [],
   "source": [
    "## normalized weights"
   ]
  },
  {
   "cell_type": "code",
   "execution_count": 99,
   "id": "bfa082aa-37b7-444e-a6d5-1742f12b87a5",
   "metadata": {},
   "outputs": [
    {
     "data": {
      "text/plain": [
       "1.0"
      ]
     },
     "execution_count": 99,
     "metadata": {},
     "output_type": "execute_result"
    }
   ],
   "source": [
    "0.11468405225695444 + 0.13493219331828038 + 0.3670092767163868 + 0.17574772733635174 + 0.20762675037202666"
   ]
  },
  {
   "cell_type": "code",
   "execution_count": null,
   "id": "0a3e3d3f-be8a-466a-8794-db68c66f2104",
   "metadata": {},
   "outputs": [],
   "source": []
  }
 ],
 "metadata": {
  "kernelspec": {
   "display_name": "Python 3 (ipykernel)",
   "language": "python",
   "name": "python3"
  },
  "language_info": {
   "codemirror_mode": {
    "name": "ipython",
    "version": 3
   },
   "file_extension": ".py",
   "mimetype": "text/x-python",
   "name": "python",
   "nbconvert_exporter": "python",
   "pygments_lexer": "ipython3",
   "version": "3.10.12"
  }
 },
 "nbformat": 4,
 "nbformat_minor": 5
}
